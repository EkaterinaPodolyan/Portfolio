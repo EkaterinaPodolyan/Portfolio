{
 "cells": [
  {
   "cell_type": "markdown",
   "id": "198202f9",
   "metadata": {},
   "source": [
    "# Исследование надёжности заёмщиков"
   ]
  },
  {
   "cell_type": "markdown",
   "id": "da161d0b",
   "metadata": {},
   "source": [
    "Заказчик исследования — кредитный отдел банка. Нужно разобраться, влияет ли семейное положение и количество детей клиента на факт погашения кредита в срок. Входные данные от банка — статистика о платёжеспособности клиентов.\n",
    "Результаты исследования будут учтены при построении модели кредитного скоринга — специальной системы, которая оценивает способность потенциального заёмщика вернуть кредит банку.\n"
   ]
  },
  {
   "cell_type": "markdown",
   "id": "bc2a8ce4",
   "metadata": {},
   "source": [
    "Описание данных  \n",
    "children — количество детей в семье   \n",
    "days_employed — общий трудовой стаж в днях   \n",
    "dob_years — возраст клиента в годах   \n",
    "education — уровень образования клиента   \n",
    "education_id — идентификатор уровня образования   \n",
    "family_status — семейное положение   \n",
    "family_status_id — идентификатор семейного положения   \n",
    "gender — пол клиента   \n",
    "income_type — тип занятости   \n",
    "debt — имел ли задолженность по возврату кредитов   \n",
    "total_income — ежемесячный доход   \n",
    "purpose — цель получения кредита"
   ]
  },
  {
   "cell_type": "markdown",
   "id": "3536c9d7",
   "metadata": {},
   "source": [
    "## 1. Обзор данных"
   ]
  },
  {
   "cell_type": "code",
   "execution_count": 1,
   "id": "31e9f1e5",
   "metadata": {},
   "outputs": [],
   "source": [
    "import pandas as pd"
   ]
  },
  {
   "cell_type": "code",
   "execution_count": 2,
   "id": "5c583b02",
   "metadata": {},
   "outputs": [],
   "source": [
    "try:\n",
    "    data = pd.read_csv('C:\\\\Users\\\\katrusya\\\\Desktop\\\\Датасеты для Яндекс практикума\\\\data_reliability_of_borrowers.csv')\n",
    "except:\n",
    "    print(\"can't open the file\")"
   ]
  },
  {
   "cell_type": "code",
   "execution_count": 3,
   "id": "130596f6",
   "metadata": {
    "scrolled": true
   },
   "outputs": [
    {
     "data": {
      "text/html": [
       "<div>\n",
       "<style scoped>\n",
       "    .dataframe tbody tr th:only-of-type {\n",
       "        vertical-align: middle;\n",
       "    }\n",
       "\n",
       "    .dataframe tbody tr th {\n",
       "        vertical-align: top;\n",
       "    }\n",
       "\n",
       "    .dataframe thead th {\n",
       "        text-align: right;\n",
       "    }\n",
       "</style>\n",
       "<table border=\"1\" class=\"dataframe\">\n",
       "  <thead>\n",
       "    <tr style=\"text-align: right;\">\n",
       "      <th></th>\n",
       "      <th>children</th>\n",
       "      <th>days_employed</th>\n",
       "      <th>dob_years</th>\n",
       "      <th>education</th>\n",
       "      <th>education_id</th>\n",
       "      <th>family_status</th>\n",
       "      <th>family_status_id</th>\n",
       "      <th>gender</th>\n",
       "      <th>income_type</th>\n",
       "      <th>debt</th>\n",
       "      <th>total_income</th>\n",
       "      <th>purpose</th>\n",
       "    </tr>\n",
       "  </thead>\n",
       "  <tbody>\n",
       "    <tr>\n",
       "      <th>0</th>\n",
       "      <td>1</td>\n",
       "      <td>-8437.673028</td>\n",
       "      <td>42</td>\n",
       "      <td>высшее</td>\n",
       "      <td>0</td>\n",
       "      <td>женат / замужем</td>\n",
       "      <td>0</td>\n",
       "      <td>F</td>\n",
       "      <td>сотрудник</td>\n",
       "      <td>0</td>\n",
       "      <td>253875.639453</td>\n",
       "      <td>покупка жилья</td>\n",
       "    </tr>\n",
       "    <tr>\n",
       "      <th>1</th>\n",
       "      <td>1</td>\n",
       "      <td>-4024.803754</td>\n",
       "      <td>36</td>\n",
       "      <td>среднее</td>\n",
       "      <td>1</td>\n",
       "      <td>женат / замужем</td>\n",
       "      <td>0</td>\n",
       "      <td>F</td>\n",
       "      <td>сотрудник</td>\n",
       "      <td>0</td>\n",
       "      <td>112080.014102</td>\n",
       "      <td>приобретение автомобиля</td>\n",
       "    </tr>\n",
       "    <tr>\n",
       "      <th>2</th>\n",
       "      <td>0</td>\n",
       "      <td>-5623.422610</td>\n",
       "      <td>33</td>\n",
       "      <td>Среднее</td>\n",
       "      <td>1</td>\n",
       "      <td>женат / замужем</td>\n",
       "      <td>0</td>\n",
       "      <td>M</td>\n",
       "      <td>сотрудник</td>\n",
       "      <td>0</td>\n",
       "      <td>145885.952297</td>\n",
       "      <td>покупка жилья</td>\n",
       "    </tr>\n",
       "    <tr>\n",
       "      <th>3</th>\n",
       "      <td>3</td>\n",
       "      <td>-4124.747207</td>\n",
       "      <td>32</td>\n",
       "      <td>среднее</td>\n",
       "      <td>1</td>\n",
       "      <td>женат / замужем</td>\n",
       "      <td>0</td>\n",
       "      <td>M</td>\n",
       "      <td>сотрудник</td>\n",
       "      <td>0</td>\n",
       "      <td>267628.550329</td>\n",
       "      <td>дополнительное образование</td>\n",
       "    </tr>\n",
       "    <tr>\n",
       "      <th>4</th>\n",
       "      <td>0</td>\n",
       "      <td>340266.072047</td>\n",
       "      <td>53</td>\n",
       "      <td>среднее</td>\n",
       "      <td>1</td>\n",
       "      <td>гражданский брак</td>\n",
       "      <td>1</td>\n",
       "      <td>F</td>\n",
       "      <td>пенсионер</td>\n",
       "      <td>0</td>\n",
       "      <td>158616.077870</td>\n",
       "      <td>сыграть свадьбу</td>\n",
       "    </tr>\n",
       "  </tbody>\n",
       "</table>\n",
       "</div>"
      ],
      "text/plain": [
       "   children  days_employed  dob_years education  education_id  \\\n",
       "0         1   -8437.673028         42    высшее             0   \n",
       "1         1   -4024.803754         36   среднее             1   \n",
       "2         0   -5623.422610         33   Среднее             1   \n",
       "3         3   -4124.747207         32   среднее             1   \n",
       "4         0  340266.072047         53   среднее             1   \n",
       "\n",
       "      family_status  family_status_id gender income_type  debt   total_income  \\\n",
       "0   женат / замужем                 0      F   сотрудник     0  253875.639453   \n",
       "1   женат / замужем                 0      F   сотрудник     0  112080.014102   \n",
       "2   женат / замужем                 0      M   сотрудник     0  145885.952297   \n",
       "3   женат / замужем                 0      M   сотрудник     0  267628.550329   \n",
       "4  гражданский брак                 1      F   пенсионер     0  158616.077870   \n",
       "\n",
       "                      purpose  \n",
       "0               покупка жилья  \n",
       "1     приобретение автомобиля  \n",
       "2               покупка жилья  \n",
       "3  дополнительное образование  \n",
       "4             сыграть свадьбу  "
      ]
     },
     "execution_count": 3,
     "metadata": {},
     "output_type": "execute_result"
    }
   ],
   "source": [
    "data.head()"
   ]
  },
  {
   "cell_type": "code",
   "execution_count": 4,
   "id": "14e531a9",
   "metadata": {
    "scrolled": true
   },
   "outputs": [
    {
     "name": "stdout",
     "output_type": "stream",
     "text": [
      "<class 'pandas.core.frame.DataFrame'>\n",
      "RangeIndex: 21525 entries, 0 to 21524\n",
      "Data columns (total 12 columns):\n",
      " #   Column            Non-Null Count  Dtype  \n",
      "---  ------            --------------  -----  \n",
      " 0   children          21525 non-null  int64  \n",
      " 1   days_employed     19351 non-null  float64\n",
      " 2   dob_years         21525 non-null  int64  \n",
      " 3   education         21525 non-null  object \n",
      " 4   education_id      21525 non-null  int64  \n",
      " 5   family_status     21525 non-null  object \n",
      " 6   family_status_id  21525 non-null  int64  \n",
      " 7   gender            21525 non-null  object \n",
      " 8   income_type       21525 non-null  object \n",
      " 9   debt              21525 non-null  int64  \n",
      " 10  total_income      19351 non-null  float64\n",
      " 11  purpose           21525 non-null  object \n",
      "dtypes: float64(2), int64(5), object(5)\n",
      "memory usage: 2.0+ MB\n"
     ]
    }
   ],
   "source": [
    "data.info()"
   ]
  },
  {
   "cell_type": "markdown",
   "id": "db225382",
   "metadata": {},
   "source": [
    "## 2.Предобработка данных"
   ]
  },
  {
   "cell_type": "code",
   "execution_count": 5,
   "id": "8eabc90c",
   "metadata": {},
   "outputs": [
    {
     "data": {
      "text/plain": [
       "-18388.949900568383"
      ]
     },
     "execution_count": 5,
     "metadata": {},
     "output_type": "execute_result"
    }
   ],
   "source": [
    "min(data['days_employed'].unique())\n"
   ]
  },
  {
   "cell_type": "markdown",
   "id": "24b73bf1",
   "metadata": {},
   "source": [
    "Здесь, как и стоило ожидать, отрицательные значения. Заменим их модулем"
   ]
  },
  {
   "cell_type": "code",
   "execution_count": 6,
   "id": "52ef6b04",
   "metadata": {},
   "outputs": [
    {
     "data": {
      "text/plain": [
       "24.14163324048118"
      ]
     },
     "execution_count": 6,
     "metadata": {},
     "output_type": "execute_result"
    }
   ],
   "source": [
    "data['days_employed'] = abs(data['days_employed'])\n",
    "min(data['days_employed'])"
   ]
  },
  {
   "cell_type": "markdown",
   "id": "d9986569",
   "metadata": {},
   "source": [
    "Похоже, с этой аномалией справились. Посмотрим, что у нас в стобце о детях."
   ]
  },
  {
   "cell_type": "code",
   "execution_count": 7,
   "id": "430e6c46",
   "metadata": {},
   "outputs": [
    {
     "data": {
      "text/plain": [
       "array([ 1,  0,  3,  2, -1,  4, 20,  5], dtype=int64)"
      ]
     },
     "execution_count": 7,
     "metadata": {},
     "output_type": "execute_result"
    }
   ],
   "source": [
    "data['children'].unique()"
   ]
  },
  {
   "cell_type": "markdown",
   "id": "b5e01290",
   "metadata": {},
   "source": [
    "Два аномальных значения. Думаю, -1 стоит заменить модулем, а 20 выглядит подозрительно, хотя такое и возможно. Думаю, для статистики такой случай не будет необходимым, избавлюсь от него"
   ]
  },
  {
   "cell_type": "code",
   "execution_count": 8,
   "id": "926dacec",
   "metadata": {},
   "outputs": [
    {
     "data": {
      "text/plain": [
       "array([1, 0, 3, 2, 4, 5], dtype=int64)"
      ]
     },
     "execution_count": 8,
     "metadata": {},
     "output_type": "execute_result"
    }
   ],
   "source": [
    "data['children'] = abs(data['children'])\n",
    "data = data[data['children'] != 20]\n",
    "data['children'].unique()"
   ]
  },
  {
   "cell_type": "markdown",
   "id": "d5dd519f",
   "metadata": {},
   "source": [
    "Посмотрим пропущенные значения"
   ]
  },
  {
   "cell_type": "code",
   "execution_count": 9,
   "id": "46aaf949",
   "metadata": {
    "scrolled": true
   },
   "outputs": [
    {
     "data": {
      "text/plain": [
       "children               0\n",
       "days_employed       2165\n",
       "dob_years              0\n",
       "education              0\n",
       "education_id           0\n",
       "family_status          0\n",
       "family_status_id       0\n",
       "gender                 0\n",
       "income_type            0\n",
       "debt                   0\n",
       "total_income        2165\n",
       "purpose                0\n",
       "dtype: int64"
      ]
     },
     "execution_count": 9,
     "metadata": {},
     "output_type": "execute_result"
    }
   ],
   "source": [
    "data.isna().sum()"
   ]
  },
  {
   "cell_type": "markdown",
   "id": "8672ae03",
   "metadata": {},
   "source": [
    "Пропуски у нас присутствуют в столбцах 'days_employed' и 'total_income'. Причём и там и там их по 2165. Это говорит о том, что заполнение одного столбца влияет на наличие данных в другом. Причину можно было бы связать с психологическим фактором (т.е. опрашиваемые, по какой-то причине скрывающие информацию о количестве отработанных дней так же неохотно делятся информацией о своих доходах), но, поскольку количество пропусков совпадает строго, то, скорее всего, причина либо техническая (произошла утеря части данных по двум столбцам), либо в какой-то из версий опросников эти два столбца отсутствовали."
   ]
  },
  {
   "cell_type": "markdown",
   "id": "82e0d22d",
   "metadata": {},
   "source": [
    "Cтолбец total_income — хранит данные о доходах. На сумму дохода сильнее всего влияет тип занятости, поэтому заполнить пропуски в этом столбце стоит медианным значением по каждому типу из столбца income_type.   \n",
    "Медианное значение в случае с количественными переменными является более близким к реальности значением, поскольку исключает влияние аномально больших и аномально малых значений, которые могут существенно исказить картину.\n",
    "Для пропусков в days_employed сделаю то же самое. Заменю пропуски медианными значениями по каждому типу занятости."
   ]
  },
  {
   "cell_type": "code",
   "execution_count": 10,
   "id": "c5d84069",
   "metadata": {},
   "outputs": [],
   "source": [
    "for t in data['income_type'].unique():\n",
    "    data.loc[(data['income_type'] == t) & (data['total_income'].isna()),  'total_income'] = \\\n",
    "    data.loc[data['income_type'] == t, 'total_income'].median()\n",
    "    data.loc[(data['income_type'] == t) & (data['days_employed'].isna()), 'days_employed'] = \\\n",
    "    data.loc[data['income_type'] == t, 'days_employed'].median"
   ]
  },
  {
   "cell_type": "code",
   "execution_count": 11,
   "id": "14e26a3d",
   "metadata": {},
   "outputs": [
    {
     "data": {
      "text/plain": [
       "children            0\n",
       "days_employed       0\n",
       "dob_years           0\n",
       "education           0\n",
       "education_id        0\n",
       "family_status       0\n",
       "family_status_id    0\n",
       "gender              0\n",
       "income_type         0\n",
       "debt                0\n",
       "total_income        0\n",
       "purpose             0\n",
       "dtype: int64"
      ]
     },
     "execution_count": 11,
     "metadata": {},
     "output_type": "execute_result"
    }
   ],
   "source": [
    "data.isna().sum()"
   ]
  },
  {
   "cell_type": "markdown",
   "id": "ae2ebe11",
   "metadata": {},
   "source": [
    "Готово. Теперь, думаю стоит заменить вещественный тип данных в столбце \"total_income\" на целочисленный"
   ]
  },
  {
   "cell_type": "code",
   "execution_count": 12,
   "id": "c6ace8c1",
   "metadata": {},
   "outputs": [
    {
     "data": {
      "text/plain": [
       "dtype('int32')"
      ]
     },
     "execution_count": 12,
     "metadata": {},
     "output_type": "execute_result"
    }
   ],
   "source": [
    "data['total_income'] = data['total_income'].astype(int)\n",
    "data['total_income'].dtypes"
   ]
  },
  {
   "cell_type": "code",
   "execution_count": 13,
   "id": "528d84ef",
   "metadata": {},
   "outputs": [
    {
     "data": {
      "text/plain": [
       "array(['высшее', 'среднее', 'Среднее', 'СРЕДНЕЕ', 'ВЫСШЕЕ',\n",
       "       'неоконченное высшее', 'начальное', 'Высшее',\n",
       "       'НЕОКОНЧЕННОЕ ВЫСШЕЕ', 'Неоконченное высшее', 'НАЧАЛЬНОЕ',\n",
       "       'Начальное', 'Ученая степень', 'УЧЕНАЯ СТЕПЕНЬ', 'ученая степень'],\n",
       "      dtype=object)"
      ]
     },
     "execution_count": 13,
     "metadata": {},
     "output_type": "execute_result"
    }
   ],
   "source": [
    "data['education'].unique()"
   ]
  },
  {
   "cell_type": "markdown",
   "id": "98a36b18",
   "metadata": {},
   "source": [
    "Наблюдаю неявные дубликаты. Нужно привести названия к нижнему регистру и избавиться от дубликатов."
   ]
  },
  {
   "cell_type": "code",
   "execution_count": 14,
   "id": "b99bb4c8",
   "metadata": {},
   "outputs": [
    {
     "data": {
      "text/plain": [
       "array(['высшее', 'среднее', 'неоконченное высшее', 'начальное',\n",
       "       'ученая степень'], dtype=object)"
      ]
     },
     "execution_count": 14,
     "metadata": {},
     "output_type": "execute_result"
    }
   ],
   "source": [
    "data['education'] = data['education'].str.lower()\n",
    "data['education'].unique()"
   ]
  },
  {
   "cell_type": "code",
   "execution_count": 15,
   "id": "5b9445a7",
   "metadata": {},
   "outputs": [
    {
     "data": {
      "text/plain": [
       "71"
      ]
     },
     "execution_count": 15,
     "metadata": {},
     "output_type": "execute_result"
    }
   ],
   "source": [
    "data.duplicated().sum()"
   ]
  },
  {
   "cell_type": "code",
   "execution_count": 16,
   "id": "579f1c68",
   "metadata": {},
   "outputs": [
    {
     "data": {
      "text/plain": [
       "0"
      ]
     },
     "execution_count": 16,
     "metadata": {},
     "output_type": "execute_result"
    }
   ],
   "source": [
    "data = data.drop_duplicates()\n",
    "data.duplicated().sum()"
   ]
  },
  {
   "cell_type": "markdown",
   "id": "0831a831",
   "metadata": {},
   "source": [
    "Посмотрю, нет ли отрицательных значений дохода"
   ]
  },
  {
   "cell_type": "code",
   "execution_count": 17,
   "id": "e35296e7",
   "metadata": {},
   "outputs": [
    {
     "data": {
      "text/plain": [
       "20667"
      ]
     },
     "execution_count": 17,
     "metadata": {},
     "output_type": "execute_result"
    }
   ],
   "source": [
    "data['total_income'].min()"
   ]
  },
  {
   "cell_type": "markdown",
   "id": "64e5006a",
   "metadata": {},
   "source": [
    "###  Категоризация данных"
   ]
  },
  {
   "cell_type": "markdown",
   "id": "2c40e1f1",
   "metadata": {},
   "source": [
    "Присвою категорию, на основании уровня дохода и создам новый столбец 'total_income_category'.\n",
    "- 0–30000 — `'E'`;\n",
    "- 30001–50000 — `'D'`;\n",
    "- 50001–200000 — `'C'`;\n",
    "- 200001–1000000 — `'B'`;\n",
    "- 1000001 и выше — `'A'`.\n"
   ]
  },
  {
   "cell_type": "code",
   "execution_count": 18,
   "id": "b0998979",
   "metadata": {},
   "outputs": [],
   "source": [
    "def categorize_income(income):\n",
    "    try:\n",
    "        if income < 30001:\n",
    "            return 'E'\n",
    "        if income < 50001:\n",
    "            return 'D'\n",
    "        if income < 200001:\n",
    "            return 'C'\n",
    "        if income < 1000001:\n",
    "            return 'B'\n",
    "        return 'A'\n",
    "    except:\n",
    "        pass"
   ]
  },
  {
   "cell_type": "code",
   "execution_count": 19,
   "id": "ba679cc3",
   "metadata": {},
   "outputs": [
    {
     "data": {
      "text/html": [
       "<div>\n",
       "<style scoped>\n",
       "    .dataframe tbody tr th:only-of-type {\n",
       "        vertical-align: middle;\n",
       "    }\n",
       "\n",
       "    .dataframe tbody tr th {\n",
       "        vertical-align: top;\n",
       "    }\n",
       "\n",
       "    .dataframe thead th {\n",
       "        text-align: right;\n",
       "    }\n",
       "</style>\n",
       "<table border=\"1\" class=\"dataframe\">\n",
       "  <thead>\n",
       "    <tr style=\"text-align: right;\">\n",
       "      <th></th>\n",
       "      <th>children</th>\n",
       "      <th>days_employed</th>\n",
       "      <th>dob_years</th>\n",
       "      <th>education</th>\n",
       "      <th>education_id</th>\n",
       "      <th>family_status</th>\n",
       "      <th>family_status_id</th>\n",
       "      <th>gender</th>\n",
       "      <th>income_type</th>\n",
       "      <th>debt</th>\n",
       "      <th>total_income</th>\n",
       "      <th>purpose</th>\n",
       "      <th>total_income_category</th>\n",
       "    </tr>\n",
       "  </thead>\n",
       "  <tbody>\n",
       "    <tr>\n",
       "      <th>0</th>\n",
       "      <td>1</td>\n",
       "      <td>8437.673028</td>\n",
       "      <td>42</td>\n",
       "      <td>высшее</td>\n",
       "      <td>0</td>\n",
       "      <td>женат / замужем</td>\n",
       "      <td>0</td>\n",
       "      <td>F</td>\n",
       "      <td>сотрудник</td>\n",
       "      <td>0</td>\n",
       "      <td>253875</td>\n",
       "      <td>покупка жилья</td>\n",
       "      <td>B</td>\n",
       "    </tr>\n",
       "    <tr>\n",
       "      <th>1</th>\n",
       "      <td>1</td>\n",
       "      <td>4024.803754</td>\n",
       "      <td>36</td>\n",
       "      <td>среднее</td>\n",
       "      <td>1</td>\n",
       "      <td>женат / замужем</td>\n",
       "      <td>0</td>\n",
       "      <td>F</td>\n",
       "      <td>сотрудник</td>\n",
       "      <td>0</td>\n",
       "      <td>112080</td>\n",
       "      <td>приобретение автомобиля</td>\n",
       "      <td>C</td>\n",
       "    </tr>\n",
       "    <tr>\n",
       "      <th>2</th>\n",
       "      <td>0</td>\n",
       "      <td>5623.42261</td>\n",
       "      <td>33</td>\n",
       "      <td>среднее</td>\n",
       "      <td>1</td>\n",
       "      <td>женат / замужем</td>\n",
       "      <td>0</td>\n",
       "      <td>M</td>\n",
       "      <td>сотрудник</td>\n",
       "      <td>0</td>\n",
       "      <td>145885</td>\n",
       "      <td>покупка жилья</td>\n",
       "      <td>C</td>\n",
       "    </tr>\n",
       "    <tr>\n",
       "      <th>3</th>\n",
       "      <td>3</td>\n",
       "      <td>4124.747207</td>\n",
       "      <td>32</td>\n",
       "      <td>среднее</td>\n",
       "      <td>1</td>\n",
       "      <td>женат / замужем</td>\n",
       "      <td>0</td>\n",
       "      <td>M</td>\n",
       "      <td>сотрудник</td>\n",
       "      <td>0</td>\n",
       "      <td>267628</td>\n",
       "      <td>дополнительное образование</td>\n",
       "      <td>B</td>\n",
       "    </tr>\n",
       "    <tr>\n",
       "      <th>4</th>\n",
       "      <td>0</td>\n",
       "      <td>340266.072047</td>\n",
       "      <td>53</td>\n",
       "      <td>среднее</td>\n",
       "      <td>1</td>\n",
       "      <td>гражданский брак</td>\n",
       "      <td>1</td>\n",
       "      <td>F</td>\n",
       "      <td>пенсионер</td>\n",
       "      <td>0</td>\n",
       "      <td>158616</td>\n",
       "      <td>сыграть свадьбу</td>\n",
       "      <td>C</td>\n",
       "    </tr>\n",
       "  </tbody>\n",
       "</table>\n",
       "</div>"
      ],
      "text/plain": [
       "   children  days_employed  dob_years education  education_id  \\\n",
       "0         1    8437.673028         42    высшее             0   \n",
       "1         1    4024.803754         36   среднее             1   \n",
       "2         0     5623.42261         33   среднее             1   \n",
       "3         3    4124.747207         32   среднее             1   \n",
       "4         0  340266.072047         53   среднее             1   \n",
       "\n",
       "      family_status  family_status_id gender income_type  debt  total_income  \\\n",
       "0   женат / замужем                 0      F   сотрудник     0        253875   \n",
       "1   женат / замужем                 0      F   сотрудник     0        112080   \n",
       "2   женат / замужем                 0      M   сотрудник     0        145885   \n",
       "3   женат / замужем                 0      M   сотрудник     0        267628   \n",
       "4  гражданский брак                 1      F   пенсионер     0        158616   \n",
       "\n",
       "                      purpose total_income_category  \n",
       "0               покупка жилья                     B  \n",
       "1     приобретение автомобиля                     C  \n",
       "2               покупка жилья                     C  \n",
       "3  дополнительное образование                     B  \n",
       "4             сыграть свадьбу                     C  "
      ]
     },
     "execution_count": 19,
     "metadata": {},
     "output_type": "execute_result"
    }
   ],
   "source": [
    "data['total_income_category'] = data['total_income'].apply(categorize_income)\n",
    "data.head()"
   ]
  },
  {
   "cell_type": "code",
   "execution_count": 20,
   "id": "fc14a31d",
   "metadata": {},
   "outputs": [
    {
     "data": {
      "text/plain": [
       "array(['покупка жилья', 'приобретение автомобиля',\n",
       "       'дополнительное образование', 'сыграть свадьбу',\n",
       "       'операции с жильем', 'образование', 'на проведение свадьбы',\n",
       "       'покупка жилья для семьи', 'покупка недвижимости',\n",
       "       'покупка коммерческой недвижимости', 'покупка жилой недвижимости',\n",
       "       'строительство собственной недвижимости', 'недвижимость',\n",
       "       'строительство недвижимости', 'на покупку подержанного автомобиля',\n",
       "       'на покупку своего автомобиля',\n",
       "       'операции с коммерческой недвижимостью',\n",
       "       'строительство жилой недвижимости', 'жилье',\n",
       "       'операции со своей недвижимостью', 'автомобили',\n",
       "       'заняться образованием', 'сделка с подержанным автомобилем',\n",
       "       'получение образования', 'автомобиль', 'свадьба',\n",
       "       'получение дополнительного образования', 'покупка своего жилья',\n",
       "       'операции с недвижимостью', 'получение высшего образования',\n",
       "       'свой автомобиль', 'сделка с автомобилем',\n",
       "       'профильное образование', 'высшее образование',\n",
       "       'покупка жилья для сдачи', 'на покупку автомобиля', 'ремонт жилью',\n",
       "       'заняться высшим образованием'], dtype=object)"
      ]
     },
     "execution_count": 20,
     "metadata": {},
     "output_type": "execute_result"
    }
   ],
   "source": [
    "data['purpose'].unique()"
   ]
  },
  {
   "cell_type": "markdown",
   "id": "55f96cca",
   "metadata": {},
   "source": [
    "Я бы разделила все цели получения кредита на следующие категории:    \n",
    "- 'операции с автомобилем',\n",
    "- 'операции с недвижимостью',\n",
    "- 'проведение свадьбы',\n",
    "- 'получение образования'.\n",
    "и создала новый столбец 'purpose_category'"
   ]
  },
  {
   "cell_type": "code",
   "execution_count": 21,
   "id": "8c3927ff",
   "metadata": {},
   "outputs": [],
   "source": [
    "def categorize_purpose(operation):\n",
    "    try:\n",
    "        if (\"жил\" in operation) | ('недвиж' in operation):\n",
    "            return \"операции с недвижимостью\"\n",
    "        elif (\"автомобил\" in operation):\n",
    "            return \"операции с автомобилем\"\n",
    "        elif (\"свадьб\" in operation):\n",
    "            return \"проведение свадьбы\"\n",
    "        elif ('образован' in operation):\n",
    "            return \"получение образования\"\n",
    "    except:\n",
    "        return \"без категории\""
   ]
  },
  {
   "cell_type": "code",
   "execution_count": 22,
   "id": "49b3054f",
   "metadata": {},
   "outputs": [],
   "source": [
    "data['purpose_category'] = data['purpose'].apply(categorize_purpose)"
   ]
  },
  {
   "cell_type": "code",
   "execution_count": 23,
   "id": "d2e64777",
   "metadata": {},
   "outputs": [
    {
     "data": {
      "text/html": [
       "<div>\n",
       "<style scoped>\n",
       "    .dataframe tbody tr th:only-of-type {\n",
       "        vertical-align: middle;\n",
       "    }\n",
       "\n",
       "    .dataframe tbody tr th {\n",
       "        vertical-align: top;\n",
       "    }\n",
       "\n",
       "    .dataframe thead th {\n",
       "        text-align: right;\n",
       "    }\n",
       "</style>\n",
       "<table border=\"1\" class=\"dataframe\">\n",
       "  <thead>\n",
       "    <tr style=\"text-align: right;\">\n",
       "      <th></th>\n",
       "      <th>children</th>\n",
       "      <th>days_employed</th>\n",
       "      <th>dob_years</th>\n",
       "      <th>education</th>\n",
       "      <th>education_id</th>\n",
       "      <th>family_status</th>\n",
       "      <th>family_status_id</th>\n",
       "      <th>gender</th>\n",
       "      <th>income_type</th>\n",
       "      <th>debt</th>\n",
       "      <th>total_income</th>\n",
       "      <th>purpose</th>\n",
       "      <th>total_income_category</th>\n",
       "      <th>purpose_category</th>\n",
       "    </tr>\n",
       "  </thead>\n",
       "  <tbody>\n",
       "    <tr>\n",
       "      <th>0</th>\n",
       "      <td>1</td>\n",
       "      <td>8437.673028</td>\n",
       "      <td>42</td>\n",
       "      <td>высшее</td>\n",
       "      <td>0</td>\n",
       "      <td>женат / замужем</td>\n",
       "      <td>0</td>\n",
       "      <td>F</td>\n",
       "      <td>сотрудник</td>\n",
       "      <td>0</td>\n",
       "      <td>253875</td>\n",
       "      <td>покупка жилья</td>\n",
       "      <td>B</td>\n",
       "      <td>операции с недвижимостью</td>\n",
       "    </tr>\n",
       "    <tr>\n",
       "      <th>1</th>\n",
       "      <td>1</td>\n",
       "      <td>4024.803754</td>\n",
       "      <td>36</td>\n",
       "      <td>среднее</td>\n",
       "      <td>1</td>\n",
       "      <td>женат / замужем</td>\n",
       "      <td>0</td>\n",
       "      <td>F</td>\n",
       "      <td>сотрудник</td>\n",
       "      <td>0</td>\n",
       "      <td>112080</td>\n",
       "      <td>приобретение автомобиля</td>\n",
       "      <td>C</td>\n",
       "      <td>операции с автомобилем</td>\n",
       "    </tr>\n",
       "    <tr>\n",
       "      <th>2</th>\n",
       "      <td>0</td>\n",
       "      <td>5623.42261</td>\n",
       "      <td>33</td>\n",
       "      <td>среднее</td>\n",
       "      <td>1</td>\n",
       "      <td>женат / замужем</td>\n",
       "      <td>0</td>\n",
       "      <td>M</td>\n",
       "      <td>сотрудник</td>\n",
       "      <td>0</td>\n",
       "      <td>145885</td>\n",
       "      <td>покупка жилья</td>\n",
       "      <td>C</td>\n",
       "      <td>операции с недвижимостью</td>\n",
       "    </tr>\n",
       "    <tr>\n",
       "      <th>3</th>\n",
       "      <td>3</td>\n",
       "      <td>4124.747207</td>\n",
       "      <td>32</td>\n",
       "      <td>среднее</td>\n",
       "      <td>1</td>\n",
       "      <td>женат / замужем</td>\n",
       "      <td>0</td>\n",
       "      <td>M</td>\n",
       "      <td>сотрудник</td>\n",
       "      <td>0</td>\n",
       "      <td>267628</td>\n",
       "      <td>дополнительное образование</td>\n",
       "      <td>B</td>\n",
       "      <td>получение образования</td>\n",
       "    </tr>\n",
       "    <tr>\n",
       "      <th>4</th>\n",
       "      <td>0</td>\n",
       "      <td>340266.072047</td>\n",
       "      <td>53</td>\n",
       "      <td>среднее</td>\n",
       "      <td>1</td>\n",
       "      <td>гражданский брак</td>\n",
       "      <td>1</td>\n",
       "      <td>F</td>\n",
       "      <td>пенсионер</td>\n",
       "      <td>0</td>\n",
       "      <td>158616</td>\n",
       "      <td>сыграть свадьбу</td>\n",
       "      <td>C</td>\n",
       "      <td>проведение свадьбы</td>\n",
       "    </tr>\n",
       "  </tbody>\n",
       "</table>\n",
       "</div>"
      ],
      "text/plain": [
       "   children  days_employed  dob_years education  education_id  \\\n",
       "0         1    8437.673028         42    высшее             0   \n",
       "1         1    4024.803754         36   среднее             1   \n",
       "2         0     5623.42261         33   среднее             1   \n",
       "3         3    4124.747207         32   среднее             1   \n",
       "4         0  340266.072047         53   среднее             1   \n",
       "\n",
       "      family_status  family_status_id gender income_type  debt  total_income  \\\n",
       "0   женат / замужем                 0      F   сотрудник     0        253875   \n",
       "1   женат / замужем                 0      F   сотрудник     0        112080   \n",
       "2   женат / замужем                 0      M   сотрудник     0        145885   \n",
       "3   женат / замужем                 0      M   сотрудник     0        267628   \n",
       "4  гражданский брак                 1      F   пенсионер     0        158616   \n",
       "\n",
       "                      purpose total_income_category          purpose_category  \n",
       "0               покупка жилья                     B  операции с недвижимостью  \n",
       "1     приобретение автомобиля                     C    операции с автомобилем  \n",
       "2               покупка жилья                     C  операции с недвижимостью  \n",
       "3  дополнительное образование                     B     получение образования  \n",
       "4             сыграть свадьбу                     C        проведение свадьбы  "
      ]
     },
     "execution_count": 23,
     "metadata": {},
     "output_type": "execute_result"
    }
   ],
   "source": [
    "data.head()"
   ]
  },
  {
   "cell_type": "markdown",
   "id": "43f7fdf5",
   "metadata": {},
   "source": [
    "## 3. Изучаю зависимость выплаты кредитов от различных факторов"
   ]
  },
  {
   "cell_type": "markdown",
   "id": "8fe3e08e",
   "metadata": {},
   "source": [
    "Для того, чтобы изучать зависимость от различных факторов, напишу функцию, которая будет возвращать отсортированную сводную таблицу, отражающую процент задолженности в зависимости от заданного фактора."
   ]
  },
  {
   "cell_type": "code",
   "execution_count": 24,
   "id": "ae46723c",
   "metadata": {},
   "outputs": [],
   "source": [
    "def debt_factor(factor):\n",
    "    data_pivot_factor = data.pivot_table(index=factor, values='debt', aggfunc={'count', 'sum', 'mean'})\n",
    "    #поскольку в 'debt' только 0 и 1, добавила mean, это сразу покажет статистику по задолженности.\n",
    "    data_pivot_factor['loan_repay'] = 100 - data_pivot_factor['mean'] * 100\n",
    "    data_pivot_factor= data_pivot_factor.sort_values(by='loan_repay', ascending=False)\n",
    "    return data_pivot_factor"
   ]
  },
  {
   "cell_type": "markdown",
   "id": "2bdc3248",
   "metadata": {},
   "source": [
    "### Eсть ли зависимость между количеством детей и возвратом кредита в срок?"
   ]
  },
  {
   "cell_type": "code",
   "execution_count": 25,
   "id": "bd100a39",
   "metadata": {},
   "outputs": [
    {
     "data": {
      "text/html": [
       "<div>\n",
       "<style scoped>\n",
       "    .dataframe tbody tr th:only-of-type {\n",
       "        vertical-align: middle;\n",
       "    }\n",
       "\n",
       "    .dataframe tbody tr th {\n",
       "        vertical-align: top;\n",
       "    }\n",
       "\n",
       "    .dataframe thead th {\n",
       "        text-align: right;\n",
       "    }\n",
       "</style>\n",
       "<table border=\"1\" class=\"dataframe\">\n",
       "  <thead>\n",
       "    <tr style=\"text-align: right;\">\n",
       "      <th></th>\n",
       "      <th>count</th>\n",
       "      <th>mean</th>\n",
       "      <th>sum</th>\n",
       "      <th>loan_repay</th>\n",
       "    </tr>\n",
       "    <tr>\n",
       "      <th>children</th>\n",
       "      <th></th>\n",
       "      <th></th>\n",
       "      <th></th>\n",
       "      <th></th>\n",
       "    </tr>\n",
       "  </thead>\n",
       "  <tbody>\n",
       "    <tr>\n",
       "      <th>5</th>\n",
       "      <td>9</td>\n",
       "      <td>0.000000</td>\n",
       "      <td>0</td>\n",
       "      <td>100.000000</td>\n",
       "    </tr>\n",
       "    <tr>\n",
       "      <th>0</th>\n",
       "      <td>14091</td>\n",
       "      <td>0.075438</td>\n",
       "      <td>1063</td>\n",
       "      <td>92.456178</td>\n",
       "    </tr>\n",
       "    <tr>\n",
       "      <th>3</th>\n",
       "      <td>330</td>\n",
       "      <td>0.081818</td>\n",
       "      <td>27</td>\n",
       "      <td>91.818182</td>\n",
       "    </tr>\n",
       "    <tr>\n",
       "      <th>1</th>\n",
       "      <td>4855</td>\n",
       "      <td>0.091658</td>\n",
       "      <td>445</td>\n",
       "      <td>90.834192</td>\n",
       "    </tr>\n",
       "    <tr>\n",
       "      <th>2</th>\n",
       "      <td>2052</td>\n",
       "      <td>0.094542</td>\n",
       "      <td>194</td>\n",
       "      <td>90.545809</td>\n",
       "    </tr>\n",
       "    <tr>\n",
       "      <th>4</th>\n",
       "      <td>41</td>\n",
       "      <td>0.097561</td>\n",
       "      <td>4</td>\n",
       "      <td>90.243902</td>\n",
       "    </tr>\n",
       "  </tbody>\n",
       "</table>\n",
       "</div>"
      ],
      "text/plain": [
       "          count      mean   sum  loan_repay\n",
       "children                                   \n",
       "5             9  0.000000     0  100.000000\n",
       "0         14091  0.075438  1063   92.456178\n",
       "3           330  0.081818    27   91.818182\n",
       "1          4855  0.091658   445   90.834192\n",
       "2          2052  0.094542   194   90.545809\n",
       "4            41  0.097561     4   90.243902"
      ]
     },
     "execution_count": 25,
     "metadata": {},
     "output_type": "execute_result"
    }
   ],
   "source": [
    "data_pivot_children = debt_factor('children')\n",
    "data_pivot_children"
   ]
  },
  {
   "cell_type": "markdown",
   "id": "5f7c7f95",
   "metadata": {},
   "source": [
    "Глядя на таблицу, можно сказать, что ярко выраженной зависимости между количеством детей у заёмщика и вероятностью возврата кредита не наблюдается. Лучше всего возвращают долги заёмщики с 5 детьми, но вряд ли 9 человек могут представлять статистически значимую картину. У остальных представителей процент возврата колеблется в районе 90.2% - 92.5%. Семьи без детей являются наиболее стабильными из семей с количеством детей до 4 включительно. Видимо сказывается более независимое положение и более низкая вероятность непредвиденных трат. Семьи же с 4-мя детьми наоборот имеют самый низкий процент возврата денежных средств. Вероятно, что кредит в этих случаях чаще берется по причинам срочной необходимости (например, семья просто не умещается на квадратных метрах). Кроме того, в таких семьях вероятность непредвиденных трат прямо связана с количеством детей (например на лечение, образование и т.д). Но, опять-таки, эта разница незначительна. "
   ]
  },
  {
   "cell_type": "markdown",
   "id": "6cd3b61b",
   "metadata": {},
   "source": [
    "### Есть ли зависимость между семейным положением и возвратом кредита в срок?"
   ]
  },
  {
   "cell_type": "markdown",
   "id": "02e3de2d",
   "metadata": {},
   "source": [
    "Проведу аналогичное исследование относительно семейного положения"
   ]
  },
  {
   "cell_type": "code",
   "execution_count": 26,
   "id": "b9008d4a",
   "metadata": {},
   "outputs": [
    {
     "data": {
      "text/html": [
       "<div>\n",
       "<style scoped>\n",
       "    .dataframe tbody tr th:only-of-type {\n",
       "        vertical-align: middle;\n",
       "    }\n",
       "\n",
       "    .dataframe tbody tr th {\n",
       "        vertical-align: top;\n",
       "    }\n",
       "\n",
       "    .dataframe thead th {\n",
       "        text-align: right;\n",
       "    }\n",
       "</style>\n",
       "<table border=\"1\" class=\"dataframe\">\n",
       "  <thead>\n",
       "    <tr style=\"text-align: right;\">\n",
       "      <th></th>\n",
       "      <th>count</th>\n",
       "      <th>mean</th>\n",
       "      <th>sum</th>\n",
       "      <th>loan_repay</th>\n",
       "    </tr>\n",
       "    <tr>\n",
       "      <th>family_status</th>\n",
       "      <th></th>\n",
       "      <th></th>\n",
       "      <th></th>\n",
       "      <th></th>\n",
       "    </tr>\n",
       "  </thead>\n",
       "  <tbody>\n",
       "    <tr>\n",
       "      <th>вдовец / вдова</th>\n",
       "      <td>955</td>\n",
       "      <td>0.065969</td>\n",
       "      <td>63</td>\n",
       "      <td>93.403141</td>\n",
       "    </tr>\n",
       "    <tr>\n",
       "      <th>в разводе</th>\n",
       "      <td>1193</td>\n",
       "      <td>0.070411</td>\n",
       "      <td>84</td>\n",
       "      <td>92.958927</td>\n",
       "    </tr>\n",
       "    <tr>\n",
       "      <th>женат / замужем</th>\n",
       "      <td>12290</td>\n",
       "      <td>0.075509</td>\n",
       "      <td>928</td>\n",
       "      <td>92.449146</td>\n",
       "    </tr>\n",
       "    <tr>\n",
       "      <th>гражданский брак</th>\n",
       "      <td>4139</td>\n",
       "      <td>0.093018</td>\n",
       "      <td>385</td>\n",
       "      <td>90.698236</td>\n",
       "    </tr>\n",
       "    <tr>\n",
       "      <th>Не женат / не замужем</th>\n",
       "      <td>2801</td>\n",
       "      <td>0.097465</td>\n",
       "      <td>273</td>\n",
       "      <td>90.253481</td>\n",
       "    </tr>\n",
       "  </tbody>\n",
       "</table>\n",
       "</div>"
      ],
      "text/plain": [
       "                       count      mean  sum  loan_repay\n",
       "family_status                                          \n",
       "вдовец / вдова           955  0.065969   63   93.403141\n",
       "в разводе               1193  0.070411   84   92.958927\n",
       "женат / замужем        12290  0.075509  928   92.449146\n",
       "гражданский брак        4139  0.093018  385   90.698236\n",
       "Не женат / не замужем   2801  0.097465  273   90.253481"
      ]
     },
     "execution_count": 26,
     "metadata": {},
     "output_type": "execute_result"
    }
   ],
   "source": [
    "data_pivot_family_status = debt_factor('family_status')\n",
    "data_pivot_family_status"
   ]
  },
  {
   "cell_type": "markdown",
   "id": "3dcc4034",
   "metadata": {},
   "source": [
    "Из сводной таблицы можно сделать вывод о том, что самый высокий процент возврата долгов у вдовцов/вдов. Немногим меньше процент возврата у тех кто был или находится в браке. Скорее всего это более возрастная категория по сравнению с теми, кто находится в гражданском браке либо никогда в нём не состоял. Т.е, вероятно, доход у них в среднем выше, финансовое положение - стабильнее, опыт и степень отвественности тоже выше."
   ]
  },
  {
   "cell_type": "markdown",
   "id": "ee960d1e",
   "metadata": {},
   "source": [
    "### Есть ли зависимость между уровнем дохода и возвратом кредита в срок?"
   ]
  },
  {
   "cell_type": "code",
   "execution_count": 27,
   "id": "f455261e",
   "metadata": {},
   "outputs": [
    {
     "data": {
      "text/html": [
       "<div>\n",
       "<style scoped>\n",
       "    .dataframe tbody tr th:only-of-type {\n",
       "        vertical-align: middle;\n",
       "    }\n",
       "\n",
       "    .dataframe tbody tr th {\n",
       "        vertical-align: top;\n",
       "    }\n",
       "\n",
       "    .dataframe thead th {\n",
       "        text-align: right;\n",
       "    }\n",
       "</style>\n",
       "<table border=\"1\" class=\"dataframe\">\n",
       "  <thead>\n",
       "    <tr style=\"text-align: right;\">\n",
       "      <th></th>\n",
       "      <th>count</th>\n",
       "      <th>mean</th>\n",
       "      <th>sum</th>\n",
       "      <th>loan_repay</th>\n",
       "    </tr>\n",
       "    <tr>\n",
       "      <th>total_income_category</th>\n",
       "      <th></th>\n",
       "      <th></th>\n",
       "      <th></th>\n",
       "      <th></th>\n",
       "    </tr>\n",
       "  </thead>\n",
       "  <tbody>\n",
       "    <tr>\n",
       "      <th>D</th>\n",
       "      <td>350</td>\n",
       "      <td>0.060000</td>\n",
       "      <td>21</td>\n",
       "      <td>94.000000</td>\n",
       "    </tr>\n",
       "    <tr>\n",
       "      <th>B</th>\n",
       "      <td>5022</td>\n",
       "      <td>0.070490</td>\n",
       "      <td>354</td>\n",
       "      <td>92.951016</td>\n",
       "    </tr>\n",
       "    <tr>\n",
       "      <th>A</th>\n",
       "      <td>25</td>\n",
       "      <td>0.080000</td>\n",
       "      <td>2</td>\n",
       "      <td>92.000000</td>\n",
       "    </tr>\n",
       "    <tr>\n",
       "      <th>C</th>\n",
       "      <td>15959</td>\n",
       "      <td>0.084842</td>\n",
       "      <td>1354</td>\n",
       "      <td>91.515759</td>\n",
       "    </tr>\n",
       "    <tr>\n",
       "      <th>E</th>\n",
       "      <td>22</td>\n",
       "      <td>0.090909</td>\n",
       "      <td>2</td>\n",
       "      <td>90.909091</td>\n",
       "    </tr>\n",
       "  </tbody>\n",
       "</table>\n",
       "</div>"
      ],
      "text/plain": [
       "                       count      mean   sum  loan_repay\n",
       "total_income_category                                   \n",
       "D                        350  0.060000    21   94.000000\n",
       "B                       5022  0.070490   354   92.951016\n",
       "A                         25  0.080000     2   92.000000\n",
       "C                      15959  0.084842  1354   91.515759\n",
       "E                         22  0.090909     2   90.909091"
      ]
     },
     "execution_count": 27,
     "metadata": {},
     "output_type": "execute_result"
    }
   ],
   "source": [
    "data_pivot_income = debt_factor('total_income_category')\n",
    "data_pivot_income"
   ]
  },
  {
   "cell_type": "markdown",
   "id": "5827ae7b",
   "metadata": {},
   "source": [
    "Мы видим, что хуже всех возвращают долг клиенты с самым низким доходом. Это логично и ожидаемо. Лучше всех возвращают деньги люди с невысоким стабильным доходом. Скорее всего это клиенты, привыкшие строго контролировать свои расходы и менее склонные к стихийным тратам. Клиенты с самым высоким доходом менее охотно возвращают долги, чем клиенты с доходом категории \"В\". Возможно это связано с тем, что доход у них не всегда стабилен. Если даже у клиента, относящегося к категории \"А\" стабильная работа, то, в случае увольнения, подобрать работу с таким же уровнем дохода непросто. Но, надо сказать, что группы 'D', 'A', 'E' статистической значимости не представляют, для их анализа нужно иметь более объемные группы."
   ]
  },
  {
   "cell_type": "markdown",
   "id": "6e346bdb",
   "metadata": {},
   "source": [
    "### Как разные цели кредита влияют на его возврат в срок"
   ]
  },
  {
   "cell_type": "code",
   "execution_count": 28,
   "id": "550f26a5",
   "metadata": {},
   "outputs": [
    {
     "data": {
      "text/html": [
       "<div>\n",
       "<style scoped>\n",
       "    .dataframe tbody tr th:only-of-type {\n",
       "        vertical-align: middle;\n",
       "    }\n",
       "\n",
       "    .dataframe tbody tr th {\n",
       "        vertical-align: top;\n",
       "    }\n",
       "\n",
       "    .dataframe thead th {\n",
       "        text-align: right;\n",
       "    }\n",
       "</style>\n",
       "<table border=\"1\" class=\"dataframe\">\n",
       "  <thead>\n",
       "    <tr style=\"text-align: right;\">\n",
       "      <th></th>\n",
       "      <th>count</th>\n",
       "      <th>mean</th>\n",
       "      <th>sum</th>\n",
       "      <th>loan_repay</th>\n",
       "    </tr>\n",
       "    <tr>\n",
       "      <th>purpose_category</th>\n",
       "      <th></th>\n",
       "      <th></th>\n",
       "      <th></th>\n",
       "      <th></th>\n",
       "    </tr>\n",
       "  </thead>\n",
       "  <tbody>\n",
       "    <tr>\n",
       "      <th>операции с недвижимостью</th>\n",
       "      <td>10775</td>\n",
       "      <td>0.072390</td>\n",
       "      <td>780</td>\n",
       "      <td>92.761021</td>\n",
       "    </tr>\n",
       "    <tr>\n",
       "      <th>проведение свадьбы</th>\n",
       "      <td>2315</td>\n",
       "      <td>0.079050</td>\n",
       "      <td>183</td>\n",
       "      <td>92.095032</td>\n",
       "    </tr>\n",
       "    <tr>\n",
       "      <th>получение образования</th>\n",
       "      <td>3998</td>\n",
       "      <td>0.092296</td>\n",
       "      <td>369</td>\n",
       "      <td>90.770385</td>\n",
       "    </tr>\n",
       "    <tr>\n",
       "      <th>операции с автомобилем</th>\n",
       "      <td>4290</td>\n",
       "      <td>0.093473</td>\n",
       "      <td>401</td>\n",
       "      <td>90.652681</td>\n",
       "    </tr>\n",
       "  </tbody>\n",
       "</table>\n",
       "</div>"
      ],
      "text/plain": [
       "                          count      mean  sum  loan_repay\n",
       "purpose_category                                          \n",
       "операции с недвижимостью  10775  0.072390  780   92.761021\n",
       "проведение свадьбы         2315  0.079050  183   92.095032\n",
       "получение образования      3998  0.092296  369   90.770385\n",
       "операции с автомобилем     4290  0.093473  401   90.652681"
      ]
     },
     "execution_count": 28,
     "metadata": {},
     "output_type": "execute_result"
    }
   ],
   "source": [
    "data_pivot_purpose = debt_factor('purpose_category')\n",
    "data_pivot_purpose"
   ]
  },
  {
   "cell_type": "markdown",
   "id": "d8224e48",
   "metadata": {},
   "source": [
    "Из таблицы видно, что лучше всего возвращают долги по кредиту в случае операций с недвижимостью. Видимо это самый ответственный сектор клиентов, который определился с местом жительства и не будет тратиться на съем жилья. Либо, если это жилье не первое, то сдача его в аренду может частично или полностью погашать кредит, снижая тем самым риск задолженности клиента. Кроме того, кредиты по недвижимости выплачиваются часто не одним человеком, а домохозяйством.   \n",
    "Проведение свадьбы хотя и является достаточно легкомысленным поводом для взятия кредита, но, видимо сумма кредита в этом случае гораздо ниже, а, следовательно быстрее погашается. Кроме того, специфика нашей страны предполагает, что многие гости на свадьбу дарят деньги, которые могут пойти на погашение кредита.   \n",
    "Автомобиль часто не является необходимой покупкой, кроме того покупка автомобиля тянет за собой затраты на его обслуживание, в том числе внезапные и крупные. Автомобиль редко бывает связан с получением дохода в отличие от недвижимости, кроме того, его цена обычно падает с возрастом. Видимо это является причиной того, что клиенты, которые берут кредит на покупку авто, в среднем хуже возвращают деньги."
   ]
  },
  {
   "cell_type": "markdown",
   "id": "42258335",
   "metadata": {},
   "source": [
    "## 4.Вывод"
   ]
  },
  {
   "cell_type": "markdown",
   "id": "c8d653c2",
   "metadata": {},
   "source": [
    "\n",
    "Самый большой объём данных представлен в семьях, включающих от 0 до 2х детей.\n",
    "По результатам самыми добросовестными заёмщиками являются клиенты без детей, они возвращают около 92,5% кредитов без задолжености, семьи с одним ребёнком возвращают около 90,8%, с двумя - около 90,6%.\n",
    "___\n",
    "Что касается семейного положения, то тут самыми надёжными являются те клиенты, которые состоят или когда-либо состояли в браке:\n",
    "вдовые возвращают в срок в 93,4% случаев, разведенные в 92,9%, состоящие в браке в 92,4%. В это же время статистика по клиентам не состоявшим когда-либо в браке следующая: находящиеся в гражданском браке возвращают в 90,7% случаев, не состоящие в браке  - в 90,2%.\n",
    "___\n",
    "Относительно уровней дохода самый большой объем данных представлен в категориях с уровнем дохода от 30000 до 1000000. Среди этих клиентов банка самыми добросовестными заёмщиками оказались люди с уровнем дохода в диапазоне от 30000 до 50000. Они возвращают вовремя почти в 94,0% случаев. Заемщики, уровень дохода которых составляет от 200000 до 1000000, возвращают почти в 93,0% случаев. И, наконец, клиенты, с уровнем дохода от 50000 до 200000, возвращают в 91,5%. \n",
    "___\n",
    "Касаемо цели кредита ситуация следующая. Лучше всего возвращают кредиты, взятые на операции с недвижимостью - 92,7%, проведение свадьбы - 92,1%. Хуже статистика по получению образования и операциям с автомобилями. Здесь доля возврата составляет около 90,7%.\n",
    "___\n",
    "___\n",
    "\n",
    "По совокупности для банка наиболее надёжными клиентами являются клиенты:\n",
    "без детей,\n",
    "вдовые либо в браке/разведённые,\n",
    "с уровнем дохода от 30000 до 50000, \n",
    "берущие кредит на операции с недвижимостью.\n",
    "\n",
    "Самый рискованный вариант клиента в плане возврата кредита:\n",
    "человек двумя детьми,\n",
    "не состоящий в браке либо состоящий в гражданском браке,\n",
    "берущий кредит на операцию с автомобилем."
   ]
  },
  {
   "cell_type": "code",
   "execution_count": null,
   "id": "b7f62cc6",
   "metadata": {},
   "outputs": [],
   "source": []
  }
 ],
 "metadata": {
  "kernelspec": {
   "display_name": "Python 3 (ipykernel)",
   "language": "python",
   "name": "python3"
  },
  "language_info": {
   "codemirror_mode": {
    "name": "ipython",
    "version": 3
   },
   "file_extension": ".py",
   "mimetype": "text/x-python",
   "name": "python",
   "nbconvert_exporter": "python",
   "pygments_lexer": "ipython3",
   "version": "3.9.13"
  }
 },
 "nbformat": 4,
 "nbformat_minor": 5
}
