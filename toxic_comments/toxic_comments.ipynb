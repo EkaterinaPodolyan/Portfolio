{
 "cells": [
  {
   "cell_type": "markdown",
   "metadata": {
    "toc": true
   },
   "source": [
    "<h1>Содержание<span class=\"tocSkip\"></span></h1>\n",
    "<div class=\"toc\"><ul class=\"toc-item\"><li><span><a href=\"#Подготовка\" data-toc-modified-id=\"Подготовка-1\"><span class=\"toc-item-num\">1&nbsp;&nbsp;</span>Подготовка</a></span></li><li><span><a href=\"#Обучение\" data-toc-modified-id=\"Обучение-2\"><span class=\"toc-item-num\">2&nbsp;&nbsp;</span>Обучение</a></span><ul class=\"toc-item\"><li><span><a href=\"#Случайный-лес\" data-toc-modified-id=\"Случайный-лес-2.1\"><span class=\"toc-item-num\">2.1&nbsp;&nbsp;</span>Случайный лес</a></span></li><li><span><a href=\"#Логистическая-регрессия\" data-toc-modified-id=\"Логистическая-регрессия-2.2\"><span class=\"toc-item-num\">2.2&nbsp;&nbsp;</span>Логистическая регрессия</a></span></li><li><span><a href=\"#Дерево-решений\" data-toc-modified-id=\"Дерево-решений-2.3\"><span class=\"toc-item-num\">2.3&nbsp;&nbsp;</span>Дерево решений</a></span></li><li><span><a href=\"#Проверка-на-адекватность\" data-toc-modified-id=\"Проверка-на-адекватность-2.4\"><span class=\"toc-item-num\">2.4&nbsp;&nbsp;</span>Проверка на адекватность</a></span></li><li><span><a href=\"#Анализ-результатов\" data-toc-modified-id=\"Анализ-результатов-2.5\"><span class=\"toc-item-num\">2.5&nbsp;&nbsp;</span>Анализ результатов</a></span></li><li><span><a href=\"#Тестирование-модели\" data-toc-modified-id=\"Тестирование-модели-2.6\"><span class=\"toc-item-num\">2.6&nbsp;&nbsp;</span>Тестирование модели</a></span></li></ul></li><li><span><a href=\"#Выводы\" data-toc-modified-id=\"Выводы-3\"><span class=\"toc-item-num\">3&nbsp;&nbsp;</span>Выводы</a></span></li><li><span><a href=\"#Чек-лист-проверки\" data-toc-modified-id=\"Чек-лист-проверки-4\"><span class=\"toc-item-num\">4&nbsp;&nbsp;</span>Чек-лист проверки</a></span></li></ul></div>"
   ]
  },
  {
   "cell_type": "markdown",
   "metadata": {},
   "source": [
    "# Проект для «Викишоп»"
   ]
  },
  {
   "cell_type": "markdown",
   "metadata": {},
   "source": [
    "Интернет-магазин «Викишоп» запускает новый сервис. Теперь пользователи могут редактировать и дополнять описания товаров, как в вики-сообществах. То есть клиенты предлагают свои правки и комментируют изменения других. Магазину нужен инструмент, который будет искать токсичные комментарии и отправлять их на модерацию. \n",
    "\n",
    "Необходимо обучить модель классифицировать комментарии на позитивные и негативные. В нашем распоряжении набор данных с разметкой о токсичности правок.\n",
    "\n",
    "Требуется построить модель со значением метрики качества *F1* не меньше 0.75. \n",
    "\n",
    "Данные находятся в файле `toxic_comments.csv`. Столбец *text* в нём содержит текст комментария, а *toxic* — целевой признак."
   ]
  },
  {
   "cell_type": "markdown",
   "metadata": {},
   "source": [
    "## Подготовка"
   ]
  },
  {
   "cell_type": "code",
   "execution_count": 3,
   "metadata": {},
   "outputs": [],
   "source": [
    "import pandas as pd\n",
    "import re\n",
    "import nltk\n",
    "from nltk.stem import WordNetLemmatizer\n",
    "from tqdm import tqdm\n",
    "from sklearn.model_selection import train_test_split, cross_val_score, GridSearchCV\n",
    "from nltk.corpus import stopwords\n",
    "from sklearn.feature_extraction.text import TfidfVectorizer\n",
    "from sklearn.ensemble import RandomForestClassifier\n",
    "from sklearn.linear_model import LogisticRegression\n",
    "from catboost import CatBoostClassifier\n",
    "from sklearn.tree import DecisionTreeClassifier\n",
    "from sklearn. metrics import f1_score\n",
    "import spacy\n",
    "matplotlib inline\n",
    "import matplotlib.pyplot as plt \n",
    "import seaborn as sns \n",
    "\n"
   ]
  },
  {
   "cell_type": "code",
   "execution_count": null,
   "metadata": {},
   "outputs": [],
   "source": [
    "try:\n",
    "    data = pd.read_csv('C:\\\\Users\\\\katrusya\\\\Desktop\\\\Датасеты для Яндекс практикума\\\\toxic_comments(1).csv', index_col=0)\n",
    "except:\n",
    "    print('could not open the file toxic_comments')"
   ]
  },
  {
   "cell_type": "code",
   "execution_count": 3,
   "metadata": {},
   "outputs": [
    {
     "data": {
      "text/html": [
       "<div>\n",
       "<style scoped>\n",
       "    .dataframe tbody tr th:only-of-type {\n",
       "        vertical-align: middle;\n",
       "    }\n",
       "\n",
       "    .dataframe tbody tr th {\n",
       "        vertical-align: top;\n",
       "    }\n",
       "\n",
       "    .dataframe thead th {\n",
       "        text-align: right;\n",
       "    }\n",
       "</style>\n",
       "<table border=\"1\" class=\"dataframe\">\n",
       "  <thead>\n",
       "    <tr style=\"text-align: right;\">\n",
       "      <th></th>\n",
       "      <th>text</th>\n",
       "      <th>toxic</th>\n",
       "    </tr>\n",
       "  </thead>\n",
       "  <tbody>\n",
       "    <tr>\n",
       "      <th>101137</th>\n",
       "      <td>\"\\n\\nI undid your change, since the \"\"Suspecte...</td>\n",
       "      <td>0</td>\n",
       "    </tr>\n",
       "  </tbody>\n",
       "</table>\n",
       "</div>"
      ],
      "text/plain": [
       "                                                     text  toxic\n",
       "101137  \"\\n\\nI undid your change, since the \"\"Suspecte...      0"
      ]
     },
     "execution_count": 3,
     "metadata": {},
     "output_type": "execute_result"
    }
   ],
   "source": [
    "data.sample()"
   ]
  },
  {
   "cell_type": "code",
   "execution_count": 4,
   "metadata": {},
   "outputs": [
    {
     "name": "stdout",
     "output_type": "stream",
     "text": [
      "<class 'pandas.core.frame.DataFrame'>\n",
      "Int64Index: 159292 entries, 0 to 159450\n",
      "Data columns (total 2 columns):\n",
      " #   Column  Non-Null Count   Dtype \n",
      "---  ------  --------------   ----- \n",
      " 0   text    159292 non-null  object\n",
      " 1   toxic   159292 non-null  int64 \n",
      "dtypes: int64(1), object(1)\n",
      "memory usage: 3.6+ MB\n"
     ]
    }
   ],
   "source": [
    "data.info()"
   ]
  },
  {
   "cell_type": "markdown",
   "metadata": {},
   "source": [
    "Немного разгрузим ресурс, заменим тип данных в столбце 'toxic'"
   ]
  },
  {
   "cell_type": "code",
   "execution_count": 5,
   "metadata": {},
   "outputs": [],
   "source": [
    "data['toxic'] = data['toxic'].astype('int8')"
   ]
  },
  {
   "cell_type": "markdown",
   "metadata": {},
   "source": [
    "У нас два столбца без пропусков. Текст на латинице. Посмотрим на баланс токсичных и нетоксичных текстов"
   ]
  },
  {
   "cell_type": "code",
   "execution_count": 6,
   "metadata": {},
   "outputs": [
    {
     "name": "stdout",
     "output_type": "stream",
     "text": [
      "Процент 0-твитов 90 \n",
      " Процент 1-твитов 10\n"
     ]
    }
   ],
   "source": [
    "percentage_of_toxic = data['toxic'].value_counts()[0]/data['toxic'].count()*100\n",
    "percentage_of_non_toxic = data['toxic'].value_counts()[1]/data['toxic'].count()*100\n",
    "print('Процент 0-твитов', round(percentage_of_toxic),'\\n','Процент 1-твитов', round(percentage_of_non_toxic))"
   ]
  },
  {
   "cell_type": "code",
   "execution_count": 7,
   "metadata": {},
   "outputs": [
    {
     "name": "stdout",
     "output_type": "stream",
     "text": [
      "0    143106\n",
      "1     16186\n",
      "Name: toxic, dtype: int64\n"
     ]
    },
    {
     "data": {
      "text/plain": [
       "<AxesSubplot:xlabel='toxic', ylabel='count'>"
      ]
     },
     "execution_count": 7,
     "metadata": {},
     "output_type": "execute_result"
    },
    {
     "data": {
      "image/png": "[encoded data removed]",
      "text/plain": [
       "<Figure size 1224x720 with 1 Axes>"
      ]
     },
     "metadata": {
      "needs_background": "light"
     },
     "output_type": "display_data"
    }
   ],
   "source": [
    "print(data['toxic'].value_counts())\n",
    "z = data['toxic'].value_counts()[0]\n",
    "one = data['toxic'].value_counts()[1]\n",
    "plt.figure(figsize=(17, 10))\n",
    "sns.countplot(x='toxic', data=data)"
   ]
  },
  {
   "cell_type": "markdown",
   "metadata": {},
   "source": [
    "Большой перевес в сторону токсичных твитов. Нужна балансировка классов."
   ]
  },
  {
   "cell_type": "markdown",
   "metadata": {},
   "source": [
    "Чищу текст функцией to_clear"
   ]
  },
  {
   "cell_type": "code",
   "execution_count": 8,
   "metadata": {},
   "outputs": [],
   "source": [
    "def to_clear(text):\n",
    "    text = text.lower()\n",
    "    text = re.sub(r'[^a-zA-Z]', ' ', text)\n",
    "    text_c = ' '.join(text.split())\n",
    "    return text_c"
   ]
  },
  {
   "cell_type": "markdown",
   "metadata": {},
   "source": [
    "применяю функцию"
   ]
  },
  {
   "cell_type": "code",
   "execution_count": 9,
   "metadata": {},
   "outputs": [
    {
     "data": {
      "text/html": [
       "<div>\n",
       "<style scoped>\n",
       "    .dataframe tbody tr th:only-of-type {\n",
       "        vertical-align: middle;\n",
       "    }\n",
       "\n",
       "    .dataframe tbody tr th {\n",
       "        vertical-align: top;\n",
       "    }\n",
       "\n",
       "    .dataframe thead th {\n",
       "        text-align: right;\n",
       "    }\n",
       "</style>\n",
       "<table border=\"1\" class=\"dataframe\">\n",
       "  <thead>\n",
       "    <tr style=\"text-align: right;\">\n",
       "      <th></th>\n",
       "      <th>text</th>\n",
       "      <th>toxic</th>\n",
       "    </tr>\n",
       "  </thead>\n",
       "  <tbody>\n",
       "    <tr>\n",
       "      <th>0</th>\n",
       "      <td>explanation why the edits made under my userna...</td>\n",
       "      <td>0</td>\n",
       "    </tr>\n",
       "    <tr>\n",
       "      <th>1</th>\n",
       "      <td>d aww he matches this background colour i m se...</td>\n",
       "      <td>0</td>\n",
       "    </tr>\n",
       "    <tr>\n",
       "      <th>2</th>\n",
       "      <td>hey man i m really not trying to edit war it s...</td>\n",
       "      <td>0</td>\n",
       "    </tr>\n",
       "    <tr>\n",
       "      <th>3</th>\n",
       "      <td>more i can t make any real suggestions on impr...</td>\n",
       "      <td>0</td>\n",
       "    </tr>\n",
       "    <tr>\n",
       "      <th>4</th>\n",
       "      <td>you sir are my hero any chance you remember wh...</td>\n",
       "      <td>0</td>\n",
       "    </tr>\n",
       "    <tr>\n",
       "      <th>...</th>\n",
       "      <td>...</td>\n",
       "      <td>...</td>\n",
       "    </tr>\n",
       "    <tr>\n",
       "      <th>159446</th>\n",
       "      <td>and for the second time of asking when your vi...</td>\n",
       "      <td>0</td>\n",
       "    </tr>\n",
       "    <tr>\n",
       "      <th>159447</th>\n",
       "      <td>you should be ashamed of yourself that is a ho...</td>\n",
       "      <td>0</td>\n",
       "    </tr>\n",
       "    <tr>\n",
       "      <th>159448</th>\n",
       "      <td>spitzer umm theres no actual article for prost...</td>\n",
       "      <td>0</td>\n",
       "    </tr>\n",
       "    <tr>\n",
       "      <th>159449</th>\n",
       "      <td>and it looks like it was actually you who put ...</td>\n",
       "      <td>0</td>\n",
       "    </tr>\n",
       "    <tr>\n",
       "      <th>159450</th>\n",
       "      <td>and i really don t think you understand i came...</td>\n",
       "      <td>0</td>\n",
       "    </tr>\n",
       "  </tbody>\n",
       "</table>\n",
       "<p>159292 rows × 2 columns</p>\n",
       "</div>"
      ],
      "text/plain": [
       "                                                     text  toxic\n",
       "0       explanation why the edits made under my userna...      0\n",
       "1       d aww he matches this background colour i m se...      0\n",
       "2       hey man i m really not trying to edit war it s...      0\n",
       "3       more i can t make any real suggestions on impr...      0\n",
       "4       you sir are my hero any chance you remember wh...      0\n",
       "...                                                   ...    ...\n",
       "159446  and for the second time of asking when your vi...      0\n",
       "159447  you should be ashamed of yourself that is a ho...      0\n",
       "159448  spitzer umm theres no actual article for prost...      0\n",
       "159449  and it looks like it was actually you who put ...      0\n",
       "159450  and i really don t think you understand i came...      0\n",
       "\n",
       "[159292 rows x 2 columns]"
      ]
     },
     "execution_count": 9,
     "metadata": {},
     "output_type": "execute_result"
    }
   ],
   "source": [
    "data['text'] = data['text'].apply(to_clear)\n",
    "data"
   ]
  },
  {
   "cell_type": "markdown",
   "metadata": {},
   "source": [
    "Организуем функцию POS - тег"
   ]
  },
  {
   "cell_type": "code",
   "execution_count": 10,
   "metadata": {},
   "outputs": [],
   "source": [
    "from nltk.corpus import wordnet"
   ]
  },
  {
   "cell_type": "code",
   "execution_count": 11,
   "metadata": {},
   "outputs": [],
   "source": [
    "\n",
    "def get_wordnet_pos(word):\n",
    "    tag = nltk.pos_tag([word])[0][1][0].upper()\n",
    "    tag_dict = {\"J\": wordnet.ADJ,\n",
    "                \"N\": wordnet.NOUN,\n",
    "                \"V\": wordnet.VERB,\n",
    "                \"R\": wordnet.ADV}\n",
    "    return tag_dict.get(tag, wordnet.NOUN)"
   ]
  },
  {
   "cell_type": "markdown",
   "metadata": {},
   "source": [
    "Создадим объект класса WordNetLemmatizer()"
   ]
  },
  {
   "cell_type": "code",
   "execution_count": 12,
   "metadata": {},
   "outputs": [],
   "source": [
    "lemm = WordNetLemmatizer()"
   ]
  },
  {
   "cell_type": "markdown",
   "metadata": {},
   "source": [
    "Напишем функцию лемматизации"
   ]
  },
  {
   "cell_type": "code",
   "execution_count": 13,
   "metadata": {},
   "outputs": [],
   "source": [
    "def to_lemm(text):\n",
    "    text_l = [lemm.lemmatize(ob, get_wordnet_pos(ob)) for ob in nltk.word_tokenize(text)]\n",
    "    return ' '.join(text_l)"
   ]
  },
  {
   "cell_type": "markdown",
   "metadata": {},
   "source": [
    "Пробуем лемматизировать"
   ]
  },
  {
   "cell_type": "code",
   "execution_count": null,
   "metadata": {},
   "outputs": [],
   "source": [
    "data['text'] = data['text'].apply(to_lemm)"
   ]
  },
  {
   "cell_type": "code",
   "execution_count": null,
   "metadata": {
    "scrolled": true
   },
   "outputs": [],
   "source": [
    "data"
   ]
  },
  {
   "cell_type": "markdown",
   "metadata": {},
   "source": [
    "Разобъём данные на target и features"
   ]
  },
  {
   "cell_type": "code",
   "execution_count": null,
   "metadata": {},
   "outputs": [],
   "source": [
    "target = data['toxic']\n",
    "features = data['text']"
   ]
  },
  {
   "cell_type": "markdown",
   "metadata": {},
   "source": [
    "Разделим на обучающую и тестовую выборку"
   ]
  },
  {
   "cell_type": "code",
   "execution_count": null,
   "metadata": {},
   "outputs": [],
   "source": [
    "random = 42"
   ]
  },
  {
   "cell_type": "code",
   "execution_count": null,
   "metadata": {},
   "outputs": [],
   "source": [
    "features_train, features_test, target_train, target_test = train_test_split(features, target, test_size=0.25, random_state=random)"
   ]
  },
  {
   "cell_type": "markdown",
   "metadata": {},
   "source": [
    "Загрузим стоп-слова"
   ]
  },
  {
   "cell_type": "code",
   "execution_count": null,
   "metadata": {},
   "outputs": [],
   "source": [
    "nltk.download('stopwords')"
   ]
  },
  {
   "cell_type": "markdown",
   "metadata": {},
   "source": [
    "Нас интересуют стоп-слова на английском"
   ]
  },
  {
   "cell_type": "code",
   "execution_count": null,
   "metadata": {},
   "outputs": [],
   "source": [
    "s_w = set(stopwords.words('english'))"
   ]
  },
  {
   "cell_type": "markdown",
   "metadata": {},
   "source": [
    "Оценим важность. Определим величину TF-IDF"
   ]
  },
  {
   "cell_type": "code",
   "execution_count": null,
   "metadata": {},
   "outputs": [],
   "source": [
    "counter = TfidfVectorizer(stop_words=s_w)"
   ]
  },
  {
   "cell_type": "raw",
   "metadata": {},
   "source": [
    "Применим .fit_transform() для обучающей выборки"
   ]
  },
  {
   "cell_type": "code",
   "execution_count": null,
   "metadata": {},
   "outputs": [],
   "source": [
    "features_train_tfidf = counter.fit_transform(features_train)\n"
   ]
  },
  {
   "cell_type": "code",
   "execution_count": null,
   "metadata": {},
   "outputs": [],
   "source": [
    "features_test_tfidf = counter.transform(features_test)"
   ]
  },
  {
   "cell_type": "markdown",
   "metadata": {},
   "source": [
    "**Была произведена загрузка данных, пропусков не выявлено. Данные содержат два столбца: текст на английском языке и целочисленные данные. Тип данных столбца 'toxic' заменили с int_64 на int_8 для экономии ресурса. Был выявлен дисбаланс твитов 0:1 как 9:1. Данные столбца 'text' были лемматезированы. В данных был выделен целевой признак, произведено разбиение на тренировочную и тестовую выборку, в пропорции 3:1. Произведена очистка от стоп-слов и рассчитан TF-IDF.**"
   ]
  },
  {
   "cell_type": "markdown",
   "metadata": {},
   "source": [
    "## Обучение"
   ]
  },
  {
   "cell_type": "markdown",
   "metadata": {},
   "source": [
    "Для обучения используем случайный лес, логистическую регрессию и дерево решений. Не забываем о дисбалансе. Качество отслеживаем по метрике f1."
   ]
  },
  {
   "cell_type": "code",
   "execution_count": null,
   "metadata": {},
   "outputs": [],
   "source": [
    "my_cv = 5"
   ]
  },
  {
   "cell_type": "markdown",
   "metadata": {},
   "source": [
    "### Случайный лес"
   ]
  },
  {
   "cell_type": "code",
   "execution_count": null,
   "metadata": {},
   "outputs": [],
   "source": [
    "param_rfc = {'n_estimators':(60,81,10),\n",
    "    'max_depth':(40,61,10), 'min_samples_leaf':(1, 2)}\n",
    "model_rfc = RandomForestClassifier(class_weight = 'balanced', random_state=random)\n",
    "clf_forest = GridSearchCV(model_rfc, param_rfc, cv=my_cv, scoring='f1')\n",
    "clf_forest.fit(features_train_tfidf, target_train)"
   ]
  },
  {
   "cell_type": "code",
   "execution_count": null,
   "metadata": {},
   "outputs": [],
   "source": [
    "print('Лучшие параметры для случайного леса', clf_forest.best_params_)"
   ]
  },
  {
   "cell_type": "code",
   "execution_count": null,
   "metadata": {
    "scrolled": true
   },
   "outputs": [],
   "source": [
    "print('Качество случайного леса', round(clf_forest.best_score_, 2))\n"
   ]
  },
  {
   "cell_type": "markdown",
   "metadata": {},
   "source": [
    "### Логистическая регрессия"
   ]
  },
  {
   "cell_type": "code",
   "execution_count": null,
   "metadata": {},
   "outputs": [],
   "source": [
    "model_regress = LogisticRegression(fit_intercept=True, solver='liblinear',\n",
    "                                class_weight ='balanced', random_state=random, C =10)\n",
    "scores_regress = cross_val_score(model_regress, features_train_tfidf, target_train, cv=8, scoring='f1').mean()\n",
    "\n"
   ]
  },
  {
   "cell_type": "code",
   "execution_count": null,
   "metadata": {},
   "outputs": [],
   "source": [
    "print(\"Качество логистической регрессии\", round(scores_regress, 2))"
   ]
  },
  {
   "cell_type": "markdown",
   "metadata": {},
   "source": [
    "### Дерево решений"
   ]
  },
  {
   "cell_type": "code",
   "execution_count": null,
   "metadata": {},
   "outputs": [],
   "source": [
    "param_dt = {'max_depth':(145, 151, 2), 'min_samples_split':[4, 6, 2]}\n",
    "model_dt = DecisionTreeClassifier(class_weight = 'balanced', min_samples_leaf = 1, random_state=random)\n",
    "clf_dt = GridSearchCV(model_dt, param_dt, cv=my_cv, scoring='f1')\n",
    "clf_dt.fit(features_train_tfidf, target_train)"
   ]
  },
  {
   "cell_type": "code",
   "execution_count": null,
   "metadata": {},
   "outputs": [],
   "source": [
    "clf_dt.best_params_"
   ]
  },
  {
   "cell_type": "code",
   "execution_count": null,
   "metadata": {},
   "outputs": [],
   "source": [
    "print('f1 для дерева решений', round(clf_dt.best_score_, 2))"
   ]
  },
  {
   "cell_type": "markdown",
   "metadata": {},
   "source": [
    "### Проверка на адекватность"
   ]
  },
  {
   "cell_type": "markdown",
   "metadata": {},
   "source": [
    "Чтобы проверить модель на адекватность, найдём значение f1 для модели, все значения которой будут равны 1."
   ]
  },
  {
   "cell_type": "code",
   "execution_count": null,
   "metadata": {},
   "outputs": [],
   "source": [
    "adequacy_check_mod = [1 for i in range(len(target_test))]\n",
    "print(round(f1_score(target_test.reset_index(drop=True),(adequacy_check_mod)),2))"
   ]
  },
  {
   "cell_type": "markdown",
   "metadata": {},
   "source": [
    "### Анализ результатов"
   ]
  },
  {
   "cell_type": "code",
   "execution_count": null,
   "metadata": {},
   "outputs": [],
   "source": [
    "df = [['0.76'], ['0.65'],['0.49']]\n",
    "model = [\"Regression\", \"DecisionTree\", \"RandomForest\"]"
   ]
  },
  {
   "cell_type": "code",
   "execution_count": null,
   "metadata": {},
   "outputs": [],
   "source": [
    "pd.DataFrame(data=df, index=model, columns=[\"f1-cross\"])"
   ]
  },
  {
   "cell_type": "markdown",
   "metadata": {},
   "source": [
    "Была попытка локального бустинга, но она оканчивалась \"dead kernel\", поэтому были выбраны модели регрессии, случайного леса и дерева решений. Тот самый случай, когда лучшие результаты оказались у регрессии. Только они удовлетворяют условию задачи."
   ]
  },
  {
   "cell_type": "markdown",
   "metadata": {},
   "source": [
    "### Тестирование модели"
   ]
  },
  {
   "cell_type": "code",
   "execution_count": null,
   "metadata": {},
   "outputs": [],
   "source": [
    "model_regress.fit(features_train_tfidf, target_train)"
   ]
  },
  {
   "cell_type": "code",
   "execution_count": null,
   "metadata": {},
   "outputs": [],
   "source": [
    "model_regress.fit(features_train_tfidf, target_train)\n",
    "reg_pred = model_regress.predict(features_test_tfidf)\n",
    "print(\"ошибка для регрессии при тестировании составила:\", round(f1_score(target_test, reg_pred),2))"
   ]
  },
  {
   "cell_type": "markdown",
   "metadata": {},
   "source": [
    "## Выводы"
   ]
  },
  {
   "cell_type": "markdown",
   "metadata": {},
   "source": [
    "**После выгрузки данных был заменён тип данных столбца 'toxic'с int_64 на int_8 для экономии ресурса. Пропусков выявлено не было. Зато был обнаружен дисбаланс твитов 0:1 как 9:1. Данные столбца 'text' были лемматезированы. В данных был выделен целевой признак, произведено разбиение на тренировочную и тестовую выборку, в пропорции 3:1. Произведена очистка от стоп-слов и рассчитан TF-IDF.   \n",
    "В качестве моделей были выбраны регрессия, дерево решений и случайный лес. Проверялись модели кросс-валидацией.\n",
    "Лучший и единственно удовлетворяющий условию результат показала логистическая регрессия. F1 на кросс валидации - 0.76, на тестовой выборке - 0.76.   \n",
    "Константная модель показала результат 0.18, что подтверждает адекватность всех трёх моделей.   \n",
    "Рекомендую заказчику логистическую регрессию как самую результативную и быструю в обучении модель.**"
   ]
  }
 ],
 "metadata": {
  "ExecuteTimeLog": [
   {
    "duration": 460,
    "start_time": "2023-07-05T06:33:30.546Z"
   },
   {
    "duration": 4163,
    "start_time": "2023-07-05T06:35:06.065Z"
   },
   {
    "duration": 15,
    "start_time": "2023-07-05T06:47:37.091Z"
   },
   {
    "duration": 58,
    "start_time": "2023-07-05T07:06:20.918Z"
   },
   {
    "duration": 496,
    "start_time": "2023-07-05T09:41:44.972Z"
   },
   {
    "duration": 5,
    "start_time": "2023-07-05T09:42:17.149Z"
   },
   {
    "duration": 70,
    "start_time": "2023-07-05T09:45:46.711Z"
   },
   {
    "duration": 8,
    "start_time": "2023-07-05T09:47:26.589Z"
   },
   {
    "duration": 4,
    "start_time": "2023-07-05T09:47:50.368Z"
   },
   {
    "duration": 12,
    "start_time": "2023-07-05T09:47:59.748Z"
   },
   {
    "duration": 9,
    "start_time": "2023-07-05T09:48:16.052Z"
   },
   {
    "duration": 2296,
    "start_time": "2023-07-05T09:48:19.896Z"
   },
   {
    "duration": 53,
    "start_time": "2023-07-05T09:48:25.469Z"
   },
   {
    "duration": 37,
    "start_time": "2023-07-05T09:48:29.235Z"
   },
   {
    "duration": 3,
    "start_time": "2023-07-05T09:48:31.787Z"
   },
   {
    "duration": 65,
    "start_time": "2023-07-05T09:48:32.465Z"
   },
   {
    "duration": 61,
    "start_time": "2023-07-05T09:49:17.825Z"
   },
   {
    "duration": 15,
    "start_time": "2023-07-05T09:49:33.084Z"
   },
   {
    "duration": 3,
    "start_time": "2023-07-05T10:33:07.470Z"
   },
   {
    "duration": 816,
    "start_time": "2023-07-05T10:33:09.733Z"
   },
   {
    "duration": 10,
    "start_time": "2023-07-05T10:33:10.552Z"
   },
   {
    "duration": 38,
    "start_time": "2023-07-05T10:33:11.296Z"
   },
   {
    "duration": 4,
    "start_time": "2023-07-05T10:33:13.507Z"
   },
   {
    "duration": 15,
    "start_time": "2023-07-05T10:33:14.837Z"
   },
   {
    "duration": 16,
    "start_time": "2023-07-05T10:33:40.603Z"
   },
   {
    "duration": 8,
    "start_time": "2023-07-05T10:33:52.593Z"
   },
   {
    "duration": 10,
    "start_time": "2023-07-05T10:35:03.030Z"
   },
   {
    "duration": 11,
    "start_time": "2023-07-05T10:35:09.285Z"
   },
   {
    "duration": 17,
    "start_time": "2023-07-05T10:36:31.358Z"
   },
   {
    "duration": 1376,
    "start_time": "2023-07-05T10:36:51.456Z"
   },
   {
    "duration": 10,
    "start_time": "2023-07-05T10:37:40.105Z"
   },
   {
    "duration": 27448,
    "start_time": "2023-07-05T10:38:24.812Z"
   },
   {
    "duration": 8,
    "start_time": "2023-07-05T10:47:00.309Z"
   },
   {
    "duration": 388,
    "start_time": "2023-07-06T06:17:40.191Z"
   },
   {
    "duration": 2383,
    "start_time": "2023-07-06T06:17:41.828Z"
   },
   {
    "duration": 13,
    "start_time": "2023-07-06T06:17:44.781Z"
   },
   {
    "duration": 26,
    "start_time": "2023-07-06T06:17:45.487Z"
   },
   {
    "duration": 375,
    "start_time": "2023-07-06T09:50:06.836Z"
   },
   {
    "duration": 2259,
    "start_time": "2023-07-06T09:50:07.213Z"
   },
   {
    "duration": 15,
    "start_time": "2023-07-06T09:50:09.473Z"
   },
   {
    "duration": 32,
    "start_time": "2023-07-06T09:50:09.490Z"
   },
   {
    "duration": 1579,
    "start_time": "2023-07-06T09:56:51.798Z"
   },
   {
    "duration": 374,
    "start_time": "2023-07-06T11:43:04.662Z"
   },
   {
    "duration": 2313,
    "start_time": "2023-07-06T11:43:05.038Z"
   },
   {
    "duration": 15,
    "start_time": "2023-07-06T11:43:07.352Z"
   },
   {
    "duration": 29,
    "start_time": "2023-07-06T11:43:07.369Z"
   },
   {
    "duration": 1633,
    "start_time": "2023-07-06T11:43:07.400Z"
   },
   {
    "duration": 376,
    "start_time": "2023-07-06T11:43:33.311Z"
   },
   {
    "duration": 2243,
    "start_time": "2023-07-06T11:43:33.689Z"
   },
   {
    "duration": 13,
    "start_time": "2023-07-06T11:43:35.933Z"
   },
   {
    "duration": 33,
    "start_time": "2023-07-06T11:43:35.947Z"
   },
   {
    "duration": 1751,
    "start_time": "2023-07-06T11:43:35.982Z"
   },
   {
    "duration": 53,
    "start_time": "2023-07-06T11:43:59.406Z"
   },
   {
    "duration": 177,
    "start_time": "2023-07-06T11:44:12.038Z"
   },
   {
    "duration": 5,
    "start_time": "2023-07-06T11:44:17.316Z"
   },
   {
    "duration": 380,
    "start_time": "2023-07-06T11:44:27.012Z"
   },
   {
    "duration": 2312,
    "start_time": "2023-07-06T11:44:27.393Z"
   },
   {
    "duration": 14,
    "start_time": "2023-07-06T11:44:29.707Z"
   },
   {
    "duration": 36,
    "start_time": "2023-07-06T11:44:29.723Z"
   },
   {
    "duration": 1646,
    "start_time": "2023-07-06T11:44:29.762Z"
   },
   {
    "duration": 4,
    "start_time": "2023-07-06T11:44:31.409Z"
   },
   {
    "duration": 63,
    "start_time": "2023-07-06T11:49:29.801Z"
   },
   {
    "duration": 7,
    "start_time": "2023-07-06T11:50:30.709Z"
   },
   {
    "duration": 1423,
    "start_time": "2023-07-06T11:50:36.547Z"
   },
   {
    "duration": 3,
    "start_time": "2023-07-06T11:50:42.400Z"
   },
   {
    "duration": 87,
    "start_time": "2023-07-08T08:23:35.189Z"
   },
   {
    "duration": 2005,
    "start_time": "2023-07-08T08:23:39.990Z"
   },
   {
    "duration": 3456,
    "start_time": "2023-07-08T08:23:47.367Z"
   },
   {
    "duration": 19,
    "start_time": "2023-07-08T08:23:51.592Z"
   },
   {
    "duration": 49,
    "start_time": "2023-07-08T08:23:53.296Z"
   },
   {
    "duration": 122,
    "start_time": "2023-07-08T08:23:55.711Z"
   },
   {
    "duration": 15,
    "start_time": "2023-07-08T08:24:00.608Z"
   },
   {
    "duration": 12,
    "start_time": "2023-07-08T08:24:11.371Z"
   },
   {
    "duration": 7,
    "start_time": "2023-07-08T08:24:38.820Z"
   },
   {
    "duration": 11,
    "start_time": "2023-07-08T08:24:57.813Z"
   },
   {
    "duration": 12,
    "start_time": "2023-07-08T08:26:12.536Z"
   },
   {
    "duration": 35,
    "start_time": "2023-07-08T08:28:02.679Z"
   },
   {
    "duration": 19,
    "start_time": "2023-07-08T08:28:15.059Z"
   },
   {
    "duration": 12,
    "start_time": "2023-07-08T08:28:34.095Z"
   },
   {
    "duration": 20,
    "start_time": "2023-07-08T08:32:08.896Z"
   },
   {
    "duration": 20,
    "start_time": "2023-07-08T08:32:21.871Z"
   },
   {
    "duration": 2,
    "start_time": "2023-07-08T09:13:22.445Z"
   },
   {
    "duration": 4,
    "start_time": "2023-07-08T09:17:42.739Z"
   },
   {
    "duration": 4,
    "start_time": "2023-07-08T09:17:55.510Z"
   },
   {
    "duration": 43,
    "start_time": "2023-07-08T09:22:08.075Z"
   },
   {
    "duration": 14,
    "start_time": "2023-07-08T09:22:15.403Z"
   },
   {
    "duration": 2322,
    "start_time": "2023-07-08T09:22:25.105Z"
   },
   {
    "duration": 70,
    "start_time": "2023-07-08T09:22:27.430Z"
   },
   {
    "duration": 4,
    "start_time": "2023-07-08T09:22:27.982Z"
   },
   {
    "duration": 25,
    "start_time": "2023-07-08T09:22:28.594Z"
   },
   {
    "duration": 6,
    "start_time": "2023-07-08T09:23:08.526Z"
   },
   {
    "duration": 55149,
    "start_time": "2023-07-08T09:23:09.219Z"
   },
   {
    "duration": 1851,
    "start_time": "2023-07-08T09:26:18.727Z"
   },
   {
    "duration": 9,
    "start_time": "2023-07-08T09:27:29.769Z"
   },
   {
    "duration": 20,
    "start_time": "2023-07-08T09:27:43.771Z"
   },
   {
    "duration": 413985,
    "start_time": "2023-07-08T09:27:54.995Z"
   },
   {
    "duration": 13,
    "start_time": "2023-07-08T09:34:52.106Z"
   },
   {
    "duration": 3,
    "start_time": "2023-07-08T09:56:44.885Z"
   },
   {
    "duration": 4,
    "start_time": "2023-07-08T10:24:50.180Z"
   },
   {
    "duration": 4,
    "start_time": "2023-07-08T10:24:59.636Z"
   },
   {
    "duration": 3,
    "start_time": "2023-07-08T10:25:01.014Z"
   },
   {
    "duration": 56,
    "start_time": "2023-07-08T10:25:02.836Z"
   },
   {
    "duration": 6,
    "start_time": "2023-07-08T10:25:18.016Z"
   },
   {
    "duration": 5432,
    "start_time": "2023-07-08T11:25:12.079Z"
   },
   {
    "duration": 4794,
    "start_time": "2023-07-08T11:25:17.514Z"
   },
   {
    "duration": 19,
    "start_time": "2023-07-08T11:25:22.315Z"
   },
   {
    "duration": 46,
    "start_time": "2023-07-08T11:25:22.336Z"
   },
   {
    "duration": 49,
    "start_time": "2023-07-08T11:25:22.384Z"
   },
   {
    "duration": 2458,
    "start_time": "2023-07-08T11:25:22.435Z"
   },
   {
    "duration": 12,
    "start_time": "2023-07-08T11:25:24.905Z"
   },
   {
    "duration": 9,
    "start_time": "2023-07-08T11:25:24.920Z"
   },
   {
    "duration": 16,
    "start_time": "2023-07-08T11:25:24.931Z"
   },
   {
    "duration": 400073,
    "start_time": "2023-07-08T11:25:24.950Z"
   },
   {
    "duration": 14,
    "start_time": "2023-07-08T11:32:05.025Z"
   },
   {
    "duration": 71,
    "start_time": "2023-07-08T11:32:05.041Z"
   },
   {
    "duration": 25,
    "start_time": "2023-07-08T11:32:05.115Z"
   },
   {
    "duration": 123,
    "start_time": "2023-07-08T11:32:05.142Z"
   },
   {
    "duration": 11,
    "start_time": "2023-07-08T11:32:05.267Z"
   },
   {
    "duration": 365,
    "start_time": "2023-07-08T11:32:05.280Z"
   },
   {
    "duration": 4,
    "start_time": "2023-07-08T11:32:05.647Z"
   },
   {
    "duration": 149,
    "start_time": "2023-07-08T11:38:20.539Z"
   },
   {
    "duration": 16,
    "start_time": "2023-07-08T11:38:25.408Z"
   },
   {
    "duration": 6,
    "start_time": "2023-07-08T11:40:16.273Z"
   },
   {
    "duration": 6,
    "start_time": "2023-07-08T11:40:27.970Z"
   },
   {
    "duration": 8729,
    "start_time": "2023-07-08T11:40:32.712Z"
   },
   {
    "duration": 6550,
    "start_time": "2023-07-08T11:41:49.546Z"
   },
   {
    "duration": 8,
    "start_time": "2023-07-08T11:42:41.291Z"
   },
   {
    "duration": 16,
    "start_time": "2023-07-08T11:42:59.499Z"
   },
   {
    "duration": 5,
    "start_time": "2023-07-08T11:43:13.283Z"
   },
   {
    "duration": 2219,
    "start_time": "2023-07-08T11:43:31.674Z"
   },
   {
    "duration": 86,
    "start_time": "2023-07-08T13:30:20.334Z"
   },
   {
    "duration": 1609,
    "start_time": "2023-07-08T13:30:32.849Z"
   },
   {
    "duration": 3665,
    "start_time": "2023-07-08T13:30:34.461Z"
   },
   {
    "duration": 17,
    "start_time": "2023-07-08T13:30:38.128Z"
   },
   {
    "duration": 43,
    "start_time": "2023-07-08T13:30:38.147Z"
   },
   {
    "duration": 13,
    "start_time": "2023-07-08T13:30:38.193Z"
   },
   {
    "duration": 2146,
    "start_time": "2023-07-08T13:30:38.210Z"
   },
   {
    "duration": 15,
    "start_time": "2023-07-08T13:30:40.359Z"
   },
   {
    "duration": 8,
    "start_time": "2023-07-08T13:30:40.377Z"
   },
   {
    "duration": 20,
    "start_time": "2023-07-08T13:30:40.388Z"
   },
   {
    "duration": 442437,
    "start_time": "2023-07-08T13:30:40.409Z"
   },
   {
    "duration": 35,
    "start_time": "2023-07-08T13:38:02.848Z"
   },
   {
    "duration": 43,
    "start_time": "2023-07-08T13:38:02.891Z"
   },
   {
    "duration": 18,
    "start_time": "2023-07-08T13:38:02.937Z"
   },
   {
    "duration": 87,
    "start_time": "2023-07-08T13:38:02.959Z"
   },
   {
    "duration": 178,
    "start_time": "2023-07-08T13:38:03.049Z"
   },
   {
    "duration": 8,
    "start_time": "2023-07-08T13:38:03.229Z"
   },
   {
    "duration": 57,
    "start_time": "2023-07-08T13:38:03.239Z"
   },
   {
    "duration": 6855,
    "start_time": "2023-07-08T13:38:03.298Z"
   },
   {
    "duration": 4,
    "start_time": "2023-07-08T13:38:10.155Z"
   },
   {
    "duration": 2021,
    "start_time": "2023-07-08T13:38:10.168Z"
   },
   {
    "duration": 5,
    "start_time": "2023-07-08T13:38:12.192Z"
   },
   {
    "duration": 5,
    "start_time": "2023-07-08T13:40:48.964Z"
   },
   {
    "duration": 62,
    "start_time": "2023-07-08T13:40:55.650Z"
   },
   {
    "duration": 15,
    "start_time": "2023-07-08T13:47:55.464Z"
   },
   {
    "duration": 114,
    "start_time": "2023-07-08T15:15:11.838Z"
   },
   {
    "duration": 132,
    "start_time": "2023-07-08T15:15:27.316Z"
   },
   {
    "duration": 30,
    "start_time": "2023-07-08T15:16:48.212Z"
   },
   {
    "duration": 17,
    "start_time": "2023-07-08T15:16:54.870Z"
   },
   {
    "duration": 3,
    "start_time": "2023-07-08T15:17:02.010Z"
   },
   {
    "duration": 1182841,
    "start_time": "2023-07-08T15:17:03.310Z"
   },
   {
    "duration": 4,
    "start_time": "2023-07-08T15:36:46.153Z"
   },
   {
    "duration": 10,
    "start_time": "2023-07-08T15:36:46.159Z"
   },
   {
    "duration": 1318,
    "start_time": "2023-07-08T21:21:12.604Z"
   },
   {
    "duration": 2263,
    "start_time": "2023-07-08T21:21:13.924Z"
   },
   {
    "duration": 14,
    "start_time": "2023-07-08T21:21:16.189Z"
   },
   {
    "duration": 34,
    "start_time": "2023-07-08T21:21:16.204Z"
   },
   {
    "duration": 4,
    "start_time": "2023-07-08T21:21:16.240Z"
   },
   {
    "duration": 8,
    "start_time": "2023-07-08T21:21:16.252Z"
   },
   {
    "duration": 1820,
    "start_time": "2023-07-08T21:21:16.262Z"
   },
   {
    "duration": 11,
    "start_time": "2023-07-08T21:21:18.084Z"
   },
   {
    "duration": 21,
    "start_time": "2023-07-08T21:21:18.096Z"
   },
   {
    "duration": 15,
    "start_time": "2023-07-08T21:21:18.119Z"
   },
   {
    "duration": 296243,
    "start_time": "2023-07-08T21:21:18.135Z"
   },
   {
    "duration": 10,
    "start_time": "2023-07-08T21:26:14.380Z"
   },
   {
    "duration": 4,
    "start_time": "2023-07-08T21:26:14.392Z"
   },
   {
    "duration": 6,
    "start_time": "2023-07-08T21:26:14.399Z"
   },
   {
    "duration": 48,
    "start_time": "2023-07-08T21:26:14.406Z"
   },
   {
    "duration": 166,
    "start_time": "2023-07-08T21:26:14.456Z"
   },
   {
    "duration": 7,
    "start_time": "2023-07-08T21:26:14.623Z"
   },
   {
    "duration": 7,
    "start_time": "2023-07-08T21:26:14.631Z"
   },
   {
    "duration": 5107,
    "start_time": "2023-07-08T21:26:14.639Z"
   },
   {
    "duration": 1560,
    "start_time": "2023-07-08T21:26:19.747Z"
   },
   {
    "duration": 3,
    "start_time": "2023-07-08T21:26:21.308Z"
   },
   {
    "duration": 1404,
    "start_time": "2023-07-09T06:29:40.232Z"
   },
   {
    "duration": 3585,
    "start_time": "2023-07-09T06:29:41.638Z"
   },
   {
    "duration": 13,
    "start_time": "2023-07-09T06:29:45.225Z"
   },
   {
    "duration": 40,
    "start_time": "2023-07-09T06:29:45.240Z"
   },
   {
    "duration": 4,
    "start_time": "2023-07-09T06:29:45.283Z"
   },
   {
    "duration": 29,
    "start_time": "2023-07-09T06:29:45.289Z"
   },
   {
    "duration": 1970,
    "start_time": "2023-07-09T06:29:45.319Z"
   },
   {
    "duration": 5,
    "start_time": "2023-07-09T06:29:47.291Z"
   },
   {
    "duration": 4,
    "start_time": "2023-07-09T06:29:47.298Z"
   },
   {
    "duration": 27,
    "start_time": "2023-07-09T06:29:47.303Z"
   },
   {
    "duration": 344710,
    "start_time": "2023-07-09T06:29:47.332Z"
   },
   {
    "duration": 24,
    "start_time": "2023-07-09T06:35:32.044Z"
   },
   {
    "duration": 7,
    "start_time": "2023-07-09T06:35:32.070Z"
   },
   {
    "duration": 10,
    "start_time": "2023-07-09T06:35:32.081Z"
   },
   {
    "duration": 37,
    "start_time": "2023-07-09T06:35:32.093Z"
   },
   {
    "duration": 166,
    "start_time": "2023-07-09T06:35:32.133Z"
   },
   {
    "duration": 8,
    "start_time": "2023-07-09T06:35:32.301Z"
   },
   {
    "duration": 4,
    "start_time": "2023-07-09T06:35:32.311Z"
   },
   {
    "duration": 5879,
    "start_time": "2023-07-09T06:35:32.317Z"
   },
   {
    "duration": 1930,
    "start_time": "2023-07-09T06:35:38.199Z"
   },
   {
    "duration": 2,
    "start_time": "2023-07-09T06:35:40.132Z"
   },
   {
    "duration": 1515,
    "start_time": "2023-07-09T07:34:13.314Z"
   },
   {
    "duration": 860,
    "start_time": "2023-07-09T07:34:14.834Z"
   },
   {
    "duration": 14,
    "start_time": "2023-07-09T07:34:15.696Z"
   },
   {
    "duration": 58,
    "start_time": "2023-07-09T07:34:15.712Z"
   },
   {
    "duration": 5,
    "start_time": "2023-07-09T07:34:15.772Z"
   },
   {
    "duration": 24,
    "start_time": "2023-07-09T07:34:15.779Z"
   },
   {
    "duration": 1941,
    "start_time": "2023-07-09T07:34:15.804Z"
   },
   {
    "duration": 17,
    "start_time": "2023-07-09T07:34:17.747Z"
   },
   {
    "duration": 9,
    "start_time": "2023-07-09T07:34:17.766Z"
   },
   {
    "duration": 23,
    "start_time": "2023-07-09T07:34:17.777Z"
   },
   {
    "duration": 343965,
    "start_time": "2023-07-09T07:34:17.803Z"
   },
   {
    "duration": 15,
    "start_time": "2023-07-09T07:40:01.770Z"
   },
   {
    "duration": 36,
    "start_time": "2023-07-09T07:40:01.787Z"
   },
   {
    "duration": 35,
    "start_time": "2023-07-09T07:40:01.826Z"
   },
   {
    "duration": 82,
    "start_time": "2023-07-09T07:40:01.862Z"
   },
   {
    "duration": 184,
    "start_time": "2023-07-09T07:40:01.946Z"
   },
   {
    "duration": 5,
    "start_time": "2023-07-09T07:40:02.133Z"
   },
   {
    "duration": 93,
    "start_time": "2023-07-09T07:40:02.139Z"
   },
   {
    "duration": 5516,
    "start_time": "2023-07-09T07:40:02.234Z"
   },
   {
    "duration": 1647,
    "start_time": "2023-07-09T07:40:07.752Z"
   },
   {
    "duration": 3,
    "start_time": "2023-07-09T07:40:09.401Z"
   },
   {
    "duration": 2270300,
    "start_time": "2023-07-09T07:40:09.405Z"
   },
   {
    "duration": 0,
    "start_time": "2023-07-09T08:17:59.707Z"
   },
   {
    "duration": 0,
    "start_time": "2023-07-09T08:17:59.708Z"
   },
   {
    "duration": 0,
    "start_time": "2023-07-09T08:17:59.709Z"
   },
   {
    "duration": 0,
    "start_time": "2023-07-09T08:17:59.710Z"
   },
   {
    "duration": 0,
    "start_time": "2023-07-09T08:17:59.711Z"
   },
   {
    "duration": 0,
    "start_time": "2023-07-09T08:17:59.713Z"
   },
   {
    "duration": 0,
    "start_time": "2023-07-09T08:17:59.713Z"
   },
   {
    "duration": 0,
    "start_time": "2023-07-09T08:17:59.714Z"
   },
   {
    "duration": 0,
    "start_time": "2023-07-09T08:17:59.715Z"
   },
   {
    "duration": 1545,
    "start_time": "2023-07-09T08:18:31.043Z"
   },
   {
    "duration": 864,
    "start_time": "2023-07-09T08:18:32.590Z"
   },
   {
    "duration": 19,
    "start_time": "2023-07-09T08:18:33.456Z"
   },
   {
    "duration": 56,
    "start_time": "2023-07-09T08:18:33.477Z"
   },
   {
    "duration": 16,
    "start_time": "2023-07-09T08:18:33.536Z"
   },
   {
    "duration": 13,
    "start_time": "2023-07-09T08:18:33.554Z"
   },
   {
    "duration": 1970,
    "start_time": "2023-07-09T08:18:33.569Z"
   },
   {
    "duration": 7,
    "start_time": "2023-07-09T08:18:35.540Z"
   },
   {
    "duration": 8,
    "start_time": "2023-07-09T08:18:35.549Z"
   },
   {
    "duration": 20,
    "start_time": "2023-07-09T08:18:35.559Z"
   },
   {
    "duration": 315598,
    "start_time": "2023-07-09T08:18:35.581Z"
   },
   {
    "duration": 13,
    "start_time": "2023-07-09T08:23:51.182Z"
   },
   {
    "duration": 13,
    "start_time": "2023-07-09T08:23:51.197Z"
   },
   {
    "duration": 30,
    "start_time": "2023-07-09T08:23:51.213Z"
   },
   {
    "duration": 37,
    "start_time": "2023-07-09T08:23:51.245Z"
   },
   {
    "duration": 234,
    "start_time": "2023-07-09T08:23:51.284Z"
   },
   {
    "duration": 6,
    "start_time": "2023-07-09T08:23:51.519Z"
   },
   {
    "duration": 3,
    "start_time": "2023-07-09T08:23:51.526Z"
   },
   {
    "duration": 5286,
    "start_time": "2023-07-09T08:23:51.531Z"
   },
   {
    "duration": 1612,
    "start_time": "2023-07-09T08:23:56.820Z"
   },
   {
    "duration": 3,
    "start_time": "2023-07-09T08:23:58.434Z"
   },
   {
    "duration": 148,
    "start_time": "2023-07-09T08:23:58.439Z"
   },
   {
    "duration": 0,
    "start_time": "2023-07-09T08:23:58.590Z"
   },
   {
    "duration": 0,
    "start_time": "2023-07-09T08:23:58.591Z"
   },
   {
    "duration": 0,
    "start_time": "2023-07-09T08:23:58.592Z"
   },
   {
    "duration": 0,
    "start_time": "2023-07-09T08:23:58.593Z"
   },
   {
    "duration": 0,
    "start_time": "2023-07-09T08:23:58.595Z"
   },
   {
    "duration": 0,
    "start_time": "2023-07-09T08:23:58.596Z"
   },
   {
    "duration": 0,
    "start_time": "2023-07-09T08:23:58.596Z"
   },
   {
    "duration": 0,
    "start_time": "2023-07-09T08:23:58.598Z"
   },
   {
    "duration": 0,
    "start_time": "2023-07-09T08:23:58.599Z"
   },
   {
    "duration": 0,
    "start_time": "2023-07-09T08:23:58.600Z"
   },
   {
    "duration": 11,
    "start_time": "2023-07-09T08:24:42.513Z"
   },
   {
    "duration": 57,
    "start_time": "2023-07-09T08:24:51.115Z"
   },
   {
    "duration": 196073,
    "start_time": "2023-07-09T08:25:12.694Z"
   },
   {
    "duration": 1412,
    "start_time": "2023-07-09T08:30:28.401Z"
   },
   {
    "duration": 3338,
    "start_time": "2023-07-09T08:30:29.815Z"
   },
   {
    "duration": 20,
    "start_time": "2023-07-09T08:30:33.155Z"
   },
   {
    "duration": 35,
    "start_time": "2023-07-09T08:30:33.177Z"
   },
   {
    "duration": 13,
    "start_time": "2023-07-09T08:30:33.214Z"
   },
   {
    "duration": 15,
    "start_time": "2023-07-09T08:30:33.229Z"
   },
   {
    "duration": 1923,
    "start_time": "2023-07-09T08:30:33.246Z"
   },
   {
    "duration": 4,
    "start_time": "2023-07-09T08:30:35.172Z"
   },
   {
    "duration": 5,
    "start_time": "2023-07-09T08:30:35.178Z"
   },
   {
    "duration": 25,
    "start_time": "2023-07-09T08:30:35.186Z"
   },
   {
    "duration": 325624,
    "start_time": "2023-07-09T08:30:35.213Z"
   },
   {
    "duration": 29,
    "start_time": "2023-07-09T08:36:00.839Z"
   },
   {
    "duration": 43,
    "start_time": "2023-07-09T08:36:00.870Z"
   },
   {
    "duration": 55,
    "start_time": "2023-07-09T08:36:00.915Z"
   },
   {
    "duration": 52,
    "start_time": "2023-07-09T08:36:00.972Z"
   },
   {
    "duration": 158,
    "start_time": "2023-07-09T08:36:01.026Z"
   },
   {
    "duration": 4,
    "start_time": "2023-07-09T08:36:01.186Z"
   },
   {
    "duration": 24,
    "start_time": "2023-07-09T08:36:01.191Z"
   },
   {
    "duration": 5483,
    "start_time": "2023-07-09T08:36:01.217Z"
   },
   {
    "duration": 1655,
    "start_time": "2023-07-09T08:36:06.702Z"
   },
   {
    "duration": 2,
    "start_time": "2023-07-09T08:36:08.359Z"
   },
   {
    "duration": 1483,
    "start_time": "2023-07-09T08:42:15.364Z"
   },
   {
    "duration": 3423,
    "start_time": "2023-07-09T08:42:16.850Z"
   },
   {
    "duration": 15,
    "start_time": "2023-07-09T08:42:20.275Z"
   },
   {
    "duration": 52,
    "start_time": "2023-07-09T08:42:20.293Z"
   },
   {
    "duration": 5,
    "start_time": "2023-07-09T08:42:20.347Z"
   },
   {
    "duration": 16,
    "start_time": "2023-07-09T08:42:20.353Z"
   },
   {
    "duration": 1984,
    "start_time": "2023-07-09T08:42:20.371Z"
   },
   {
    "duration": 22,
    "start_time": "2023-07-09T08:42:22.357Z"
   },
   {
    "duration": 14,
    "start_time": "2023-07-09T08:42:22.381Z"
   },
   {
    "duration": 17,
    "start_time": "2023-07-09T08:42:22.398Z"
   },
   {
    "duration": 317265,
    "start_time": "2023-07-09T08:42:22.416Z"
   },
   {
    "duration": 13,
    "start_time": "2023-07-09T08:47:39.683Z"
   },
   {
    "duration": 10,
    "start_time": "2023-07-09T08:47:39.697Z"
   },
   {
    "duration": 6,
    "start_time": "2023-07-09T08:47:39.708Z"
   },
   {
    "duration": 54,
    "start_time": "2023-07-09T08:47:39.716Z"
   },
   {
    "duration": 247,
    "start_time": "2023-07-09T08:47:39.772Z"
   },
   {
    "duration": 4,
    "start_time": "2023-07-09T08:47:40.020Z"
   },
   {
    "duration": 10,
    "start_time": "2023-07-09T08:47:40.026Z"
   },
   {
    "duration": 5296,
    "start_time": "2023-07-09T08:47:40.038Z"
   },
   {
    "duration": 1700,
    "start_time": "2023-07-09T08:47:45.336Z"
   },
   {
    "duration": 3,
    "start_time": "2023-07-09T08:47:47.038Z"
   },
   {
    "duration": 50,
    "start_time": "2023-07-09T08:48:02.913Z"
   },
   {
    "duration": 1562,
    "start_time": "2023-07-09T08:50:58.366Z"
   },
   {
    "duration": 3436,
    "start_time": "2023-07-09T08:50:59.930Z"
   },
   {
    "duration": 14,
    "start_time": "2023-07-09T08:51:03.368Z"
   },
   {
    "duration": 50,
    "start_time": "2023-07-09T08:51:03.384Z"
   },
   {
    "duration": 4,
    "start_time": "2023-07-09T08:51:03.437Z"
   },
   {
    "duration": 11,
    "start_time": "2023-07-09T08:51:03.444Z"
   },
   {
    "duration": 1960,
    "start_time": "2023-07-09T08:51:03.467Z"
   },
   {
    "duration": 12,
    "start_time": "2023-07-09T08:51:05.429Z"
   },
   {
    "duration": 19,
    "start_time": "2023-07-09T08:51:05.443Z"
   },
   {
    "duration": 24,
    "start_time": "2023-07-09T08:51:05.464Z"
   },
   {
    "duration": 309913,
    "start_time": "2023-07-09T08:51:05.490Z"
   },
   {
    "duration": 11,
    "start_time": "2023-07-09T08:56:15.405Z"
   },
   {
    "duration": 3,
    "start_time": "2023-07-09T08:56:15.418Z"
   },
   {
    "duration": 4,
    "start_time": "2023-07-09T08:56:15.423Z"
   },
   {
    "duration": 63,
    "start_time": "2023-07-09T08:56:15.429Z"
   },
   {
    "duration": 232,
    "start_time": "2023-07-09T08:56:15.494Z"
   },
   {
    "duration": 5,
    "start_time": "2023-07-09T08:56:15.729Z"
   },
   {
    "duration": 4,
    "start_time": "2023-07-09T08:56:15.736Z"
   },
   {
    "duration": 5430,
    "start_time": "2023-07-09T08:56:15.742Z"
   },
   {
    "duration": 1704,
    "start_time": "2023-07-09T08:56:21.174Z"
   },
   {
    "duration": 3,
    "start_time": "2023-07-09T08:56:22.882Z"
   },
   {
    "duration": 56,
    "start_time": "2023-07-09T08:57:12.508Z"
   },
   {
    "duration": 1596,
    "start_time": "2023-07-09T10:39:24.023Z"
   },
   {
    "duration": 3594,
    "start_time": "2023-07-09T10:39:25.621Z"
   },
   {
    "duration": 14,
    "start_time": "2023-07-09T10:39:29.216Z"
   },
   {
    "duration": 32,
    "start_time": "2023-07-09T10:39:29.232Z"
   },
   {
    "duration": 4,
    "start_time": "2023-07-09T10:39:29.267Z"
   },
   {
    "duration": 10,
    "start_time": "2023-07-09T10:39:29.272Z"
   },
   {
    "duration": 2186,
    "start_time": "2023-07-09T10:39:29.284Z"
   },
   {
    "duration": 47,
    "start_time": "2023-07-09T10:39:31.472Z"
   },
   {
    "duration": 31,
    "start_time": "2023-07-09T10:39:31.521Z"
   },
   {
    "duration": 46,
    "start_time": "2023-07-09T10:39:31.554Z"
   },
   {
    "duration": 290515,
    "start_time": "2023-07-09T10:39:31.602Z"
   },
   {
    "duration": 12,
    "start_time": "2023-07-09T10:44:22.118Z"
   },
   {
    "duration": 22,
    "start_time": "2023-07-09T10:44:22.132Z"
   },
   {
    "duration": 2,
    "start_time": "2023-07-09T10:44:22.158Z"
   },
   {
    "duration": 33,
    "start_time": "2023-07-09T10:44:22.162Z"
   },
   {
    "duration": 242,
    "start_time": "2023-07-09T10:44:22.197Z"
   },
   {
    "duration": 3,
    "start_time": "2023-07-09T10:44:22.441Z"
   },
   {
    "duration": 5,
    "start_time": "2023-07-09T10:44:22.445Z"
   },
   {
    "duration": 5377,
    "start_time": "2023-07-09T10:44:22.451Z"
   },
   {
    "duration": 1669,
    "start_time": "2023-07-09T10:44:27.830Z"
   },
   {
    "duration": 2,
    "start_time": "2023-07-09T10:44:29.501Z"
   },
   {
    "duration": 1440,
    "start_time": "2023-07-09T10:46:33.474Z"
   },
   {
    "duration": 3495,
    "start_time": "2023-07-09T10:46:34.916Z"
   },
   {
    "duration": 14,
    "start_time": "2023-07-09T10:46:38.413Z"
   },
   {
    "duration": 32,
    "start_time": "2023-07-09T10:46:38.429Z"
   },
   {
    "duration": 4,
    "start_time": "2023-07-09T10:46:38.463Z"
   },
   {
    "duration": 8,
    "start_time": "2023-07-09T10:46:38.469Z"
   },
   {
    "duration": 2148,
    "start_time": "2023-07-09T10:46:38.479Z"
   },
   {
    "duration": 14,
    "start_time": "2023-07-09T10:46:40.629Z"
   },
   {
    "duration": 8,
    "start_time": "2023-07-09T10:46:40.645Z"
   },
   {
    "duration": 31,
    "start_time": "2023-07-09T10:46:40.656Z"
   },
   {
    "duration": 292609,
    "start_time": "2023-07-09T10:46:40.688Z"
   },
   {
    "duration": 15,
    "start_time": "2023-07-09T10:51:33.299Z"
   },
   {
    "duration": 4,
    "start_time": "2023-07-09T10:51:33.316Z"
   },
   {
    "duration": 12,
    "start_time": "2023-07-09T10:51:33.321Z"
   },
   {
    "duration": 48,
    "start_time": "2023-07-09T10:51:33.334Z"
   },
   {
    "duration": 247,
    "start_time": "2023-07-09T10:51:33.383Z"
   },
   {
    "duration": 5,
    "start_time": "2023-07-09T10:51:33.632Z"
   },
   {
    "duration": 5,
    "start_time": "2023-07-09T10:51:33.639Z"
   },
   {
    "duration": 5478,
    "start_time": "2023-07-09T10:51:33.645Z"
   },
   {
    "duration": 1834,
    "start_time": "2023-07-09T10:51:39.125Z"
   },
   {
    "duration": 3,
    "start_time": "2023-07-09T10:51:40.961Z"
   },
   {
    "duration": 216229,
    "start_time": "2023-07-09T10:54:47.238Z"
   },
   {
    "duration": 4187697,
    "start_time": "2023-07-09T10:58:32.140Z"
   },
   {
    "duration": 4,
    "start_time": "2023-07-09T12:08:36.201Z"
   },
   {
    "duration": 6,
    "start_time": "2023-07-09T12:08:43.964Z"
   },
   {
    "duration": 133,
    "start_time": "2023-07-09T12:15:23.912Z"
   },
   {
    "duration": 63794,
    "start_time": "2023-07-09T12:16:54.673Z"
   },
   {
    "duration": 60451,
    "start_time": "2023-07-09T12:42:58.737Z"
   },
   {
    "duration": 60019,
    "start_time": "2023-07-09T12:44:17.192Z"
   },
   {
    "duration": 1332,
    "start_time": "2023-07-09T12:45:17.212Z"
   },
   {
    "duration": 1304,
    "start_time": "2023-07-09T12:46:50.925Z"
   },
   {
    "duration": 11,
    "start_time": "2023-07-09T13:07:56.826Z"
   },
   {
    "duration": 231735,
    "start_time": "2023-07-09T13:08:31.644Z"
   },
   {
    "duration": 150,
    "start_time": "2023-07-09T13:15:30.339Z"
   },
   {
    "duration": 162,
    "start_time": "2023-07-09T13:35:36.979Z"
   },
   {
    "duration": 4,
    "start_time": "2023-07-09T13:35:51.209Z"
   },
   {
    "duration": 264,
    "start_time": "2023-07-09T13:35:57.417Z"
   },
   {
    "duration": 12,
    "start_time": "2023-07-09T13:36:16.879Z"
   },
   {
    "duration": 11,
    "start_time": "2023-07-09T13:36:39.728Z"
   },
   {
    "duration": 13,
    "start_time": "2023-07-09T13:37:06.797Z"
   },
   {
    "duration": 200284,
    "start_time": "2023-07-09T13:37:20.085Z"
   },
   {
    "duration": 217338,
    "start_time": "2023-07-09T13:42:45.523Z"
   },
   {
    "duration": 80,
    "start_time": "2023-07-09T14:58:36.782Z"
   },
   {
    "duration": 4023,
    "start_time": "2023-07-09T14:59:28.154Z"
   },
   {
    "duration": 4044,
    "start_time": "2023-07-09T14:59:32.180Z"
   },
   {
    "duration": 22,
    "start_time": "2023-07-09T14:59:36.226Z"
   },
   {
    "duration": 74,
    "start_time": "2023-07-09T14:59:36.251Z"
   },
   {
    "duration": 64,
    "start_time": "2023-07-09T14:59:36.327Z"
   },
   {
    "duration": 33,
    "start_time": "2023-07-09T14:59:36.393Z"
   },
   {
    "duration": 2893,
    "start_time": "2023-07-09T14:59:36.428Z"
   },
   {
    "duration": 50,
    "start_time": "2023-07-09T14:59:39.326Z"
   },
   {
    "duration": 14,
    "start_time": "2023-07-09T14:59:39.378Z"
   },
   {
    "duration": 48,
    "start_time": "2023-07-09T14:59:39.395Z"
   },
   {
    "duration": 3755,
    "start_time": "2023-07-09T15:04:54.136Z"
   },
   {
    "duration": 3501,
    "start_time": "2023-07-09T15:04:57.894Z"
   },
   {
    "duration": 29,
    "start_time": "2023-07-09T15:05:01.397Z"
   },
   {
    "duration": 149,
    "start_time": "2023-07-09T15:05:01.428Z"
   },
   {
    "duration": 107,
    "start_time": "2023-07-09T15:05:01.581Z"
   },
   {
    "duration": 120,
    "start_time": "2023-07-09T15:05:01.689Z"
   },
   {
    "duration": 2414,
    "start_time": "2023-07-09T15:05:01.816Z"
   },
   {
    "duration": 38,
    "start_time": "2023-07-09T15:05:04.242Z"
   },
   {
    "duration": 20,
    "start_time": "2023-07-09T15:05:04.282Z"
   },
   {
    "duration": 86,
    "start_time": "2023-07-09T15:05:04.304Z"
   },
   {
    "duration": 503440,
    "start_time": "2023-07-09T15:05:04.392Z"
   },
   {
    "duration": 18,
    "start_time": "2023-07-09T15:13:27.834Z"
   },
   {
    "duration": 12,
    "start_time": "2023-07-09T15:13:27.855Z"
   },
   {
    "duration": 7,
    "start_time": "2023-07-09T15:13:27.870Z"
   },
   {
    "duration": 66,
    "start_time": "2023-07-09T15:13:27.878Z"
   },
   {
    "duration": 156,
    "start_time": "2023-07-09T15:13:27.946Z"
   },
   {
    "duration": 49,
    "start_time": "2023-07-09T15:13:28.104Z"
   },
   {
    "duration": 17,
    "start_time": "2023-07-09T15:13:28.155Z"
   },
   {
    "duration": 7752,
    "start_time": "2023-07-09T15:13:28.174Z"
   },
   {
    "duration": 2330,
    "start_time": "2023-07-09T15:13:35.930Z"
   },
   {
    "duration": 3,
    "start_time": "2023-07-09T15:13:38.262Z"
   },
   {
    "duration": 161,
    "start_time": "2023-07-09T15:13:38.267Z"
   },
   {
    "duration": 0,
    "start_time": "2023-07-09T15:13:38.430Z"
   },
   {
    "duration": 1,
    "start_time": "2023-07-09T15:13:38.431Z"
   },
   {
    "duration": 0,
    "start_time": "2023-07-09T15:13:38.432Z"
   },
   {
    "duration": 0,
    "start_time": "2023-07-09T15:13:38.433Z"
   },
   {
    "duration": 0,
    "start_time": "2023-07-09T15:13:38.434Z"
   },
   {
    "duration": 0,
    "start_time": "2023-07-09T15:13:38.435Z"
   },
   {
    "duration": 0,
    "start_time": "2023-07-09T15:13:38.436Z"
   },
   {
    "duration": 7,
    "start_time": "2023-07-09T15:18:03.534Z"
   },
   {
    "duration": 253517,
    "start_time": "2023-07-09T15:18:07.738Z"
   },
   {
    "duration": 254118,
    "start_time": "2023-07-09T15:31:11.894Z"
   },
   {
    "duration": 255285,
    "start_time": "2023-07-09T15:37:45.484Z"
   },
   {
    "duration": 4400,
    "start_time": "2023-07-09T15:48:49.249Z"
   },
   {
    "duration": 3997,
    "start_time": "2023-07-09T15:48:53.652Z"
   },
   {
    "duration": 17,
    "start_time": "2023-07-09T15:48:57.651Z"
   },
   {
    "duration": 66,
    "start_time": "2023-07-09T15:48:57.670Z"
   },
   {
    "duration": 38,
    "start_time": "2023-07-09T15:48:57.741Z"
   },
   {
    "duration": 18,
    "start_time": "2023-07-09T15:48:57.782Z"
   },
   {
    "duration": 2336,
    "start_time": "2023-07-09T15:48:57.803Z"
   },
   {
    "duration": 27,
    "start_time": "2023-07-09T15:49:00.155Z"
   },
   {
    "duration": 54,
    "start_time": "2023-07-09T15:49:00.184Z"
   },
   {
    "duration": 131,
    "start_time": "2023-07-09T15:49:00.240Z"
   },
   {
    "duration": 522370,
    "start_time": "2023-07-09T15:49:00.373Z"
   },
   {
    "duration": 19,
    "start_time": "2023-07-09T15:57:42.745Z"
   },
   {
    "duration": 21,
    "start_time": "2023-07-09T15:57:42.766Z"
   },
   {
    "duration": 6,
    "start_time": "2023-07-09T15:57:42.791Z"
   },
   {
    "duration": 86,
    "start_time": "2023-07-09T15:57:42.799Z"
   },
   {
    "duration": 320,
    "start_time": "2023-07-09T15:57:42.887Z"
   },
   {
    "duration": 29,
    "start_time": "2023-07-09T15:57:43.209Z"
   },
   {
    "duration": 27,
    "start_time": "2023-07-09T15:57:43.241Z"
   },
   {
    "duration": 7384,
    "start_time": "2023-07-09T15:57:43.270Z"
   },
   {
    "duration": 2216,
    "start_time": "2023-07-09T15:57:50.658Z"
   },
   {
    "duration": 3,
    "start_time": "2023-07-09T15:57:52.876Z"
   },
   {
    "duration": 10,
    "start_time": "2023-07-09T15:57:52.880Z"
   },
   {
    "duration": 243922,
    "start_time": "2023-07-09T15:57:52.892Z"
   },
   {
    "duration": 236,
    "start_time": "2023-07-09T16:01:56.815Z"
   },
   {
    "duration": 0,
    "start_time": "2023-07-09T16:01:57.053Z"
   },
   {
    "duration": 0,
    "start_time": "2023-07-09T16:01:57.054Z"
   },
   {
    "duration": 0,
    "start_time": "2023-07-09T16:01:57.055Z"
   },
   {
    "duration": 0,
    "start_time": "2023-07-09T16:01:57.057Z"
   },
   {
    "duration": 0,
    "start_time": "2023-07-09T16:01:57.058Z"
   },
   {
    "duration": 7816,
    "start_time": "2023-07-09T16:02:40.571Z"
   },
   {
    "duration": 3709,
    "start_time": "2023-07-09T16:02:48.390Z"
   },
   {
    "duration": 17,
    "start_time": "2023-07-09T16:02:52.101Z"
   },
   {
    "duration": 83,
    "start_time": "2023-07-09T16:02:52.120Z"
   },
   {
    "duration": 61,
    "start_time": "2023-07-09T16:02:52.205Z"
   },
   {
    "duration": 26,
    "start_time": "2023-07-09T16:02:52.268Z"
   },
   {
    "duration": 2270,
    "start_time": "2023-07-09T16:02:52.295Z"
   },
   {
    "duration": 3,
    "start_time": "2023-07-09T16:02:54.567Z"
   },
   {
    "duration": 22,
    "start_time": "2023-07-09T16:02:54.572Z"
   },
   {
    "duration": 28,
    "start_time": "2023-07-09T16:02:54.596Z"
   },
   {
    "duration": 1333,
    "start_time": "2023-07-10T07:32:53.099Z"
   },
   {
    "duration": 2481,
    "start_time": "2023-07-10T07:32:54.434Z"
   },
   {
    "duration": 13,
    "start_time": "2023-07-10T07:32:56.916Z"
   },
   {
    "duration": 40,
    "start_time": "2023-07-10T07:32:56.931Z"
   },
   {
    "duration": 4,
    "start_time": "2023-07-10T07:32:56.973Z"
   },
   {
    "duration": 25,
    "start_time": "2023-07-10T07:32:56.979Z"
   },
   {
    "duration": 1888,
    "start_time": "2023-07-10T07:32:57.006Z"
   },
   {
    "duration": 7,
    "start_time": "2023-07-10T07:32:58.896Z"
   },
   {
    "duration": 7,
    "start_time": "2023-07-10T07:32:58.904Z"
   },
   {
    "duration": 17,
    "start_time": "2023-07-10T07:32:58.913Z"
   },
   {
    "duration": 250504,
    "start_time": "2023-07-10T07:32:58.931Z"
   },
   {
    "duration": 12,
    "start_time": "2023-07-10T07:37:09.436Z"
   },
   {
    "duration": 26,
    "start_time": "2023-07-10T07:37:09.449Z"
   },
   {
    "duration": 15,
    "start_time": "2023-07-10T07:37:09.478Z"
   },
   {
    "duration": 36,
    "start_time": "2023-07-10T07:37:09.494Z"
   },
   {
    "duration": 147,
    "start_time": "2023-07-10T07:37:09.532Z"
   },
   {
    "duration": 4,
    "start_time": "2023-07-10T07:37:09.681Z"
   },
   {
    "duration": 11,
    "start_time": "2023-07-10T07:37:09.686Z"
   },
   {
    "duration": 4629,
    "start_time": "2023-07-10T07:37:09.698Z"
   },
   {
    "duration": 1496,
    "start_time": "2023-07-10T07:37:14.330Z"
   },
   {
    "duration": 2,
    "start_time": "2023-07-10T07:37:15.828Z"
   },
   {
    "duration": 13,
    "start_time": "2023-07-10T07:37:15.832Z"
   },
   {
    "duration": 121042,
    "start_time": "2023-07-10T07:37:15.847Z"
   },
   {
    "duration": 122,
    "start_time": "2023-07-10T07:39:16.891Z"
   },
   {
    "duration": 0,
    "start_time": "2023-07-10T07:39:17.014Z"
   },
   {
    "duration": 0,
    "start_time": "2023-07-10T07:39:17.015Z"
   },
   {
    "duration": 0,
    "start_time": "2023-07-10T07:39:17.017Z"
   },
   {
    "duration": 0,
    "start_time": "2023-07-10T07:39:17.018Z"
   },
   {
    "duration": 0,
    "start_time": "2023-07-10T07:39:17.019Z"
   },
   {
    "duration": 1607,
    "start_time": "2023-07-10T09:56:40.785Z"
   },
   {
    "duration": 2649,
    "start_time": "2023-07-10T09:56:42.394Z"
   },
   {
    "duration": 16,
    "start_time": "2023-07-10T09:56:45.045Z"
   },
   {
    "duration": 87,
    "start_time": "2023-07-10T09:56:45.063Z"
   },
   {
    "duration": 16,
    "start_time": "2023-07-10T09:56:45.152Z"
   },
   {
    "duration": 27,
    "start_time": "2023-07-10T09:56:45.171Z"
   },
   {
    "duration": 2053,
    "start_time": "2023-07-10T09:56:45.200Z"
   },
   {
    "duration": 16,
    "start_time": "2023-07-10T09:56:47.255Z"
   },
   {
    "duration": 12,
    "start_time": "2023-07-10T09:56:47.273Z"
   },
   {
    "duration": 19,
    "start_time": "2023-07-10T09:56:47.288Z"
   },
   {
    "duration": 550726,
    "start_time": "2023-07-10T09:56:47.314Z"
   },
   {
    "duration": 15,
    "start_time": "2023-07-10T10:05:58.042Z"
   },
   {
    "duration": 109,
    "start_time": "2023-07-10T10:05:58.059Z"
   },
   {
    "duration": 95,
    "start_time": "2023-07-10T10:05:58.170Z"
   },
   {
    "duration": 154,
    "start_time": "2023-07-10T10:05:58.267Z"
   },
   {
    "duration": 254,
    "start_time": "2023-07-10T10:05:58.423Z"
   },
   {
    "duration": 4,
    "start_time": "2023-07-10T10:05:58.678Z"
   },
   {
    "duration": 15,
    "start_time": "2023-07-10T10:05:58.684Z"
   },
   {
    "duration": 6223,
    "start_time": "2023-07-10T10:05:58.701Z"
   },
   {
    "duration": 2056,
    "start_time": "2023-07-10T10:06:04.926Z"
   },
   {
    "duration": 3,
    "start_time": "2023-07-10T10:06:06.984Z"
   },
   {
    "duration": 42,
    "start_time": "2023-07-10T10:06:06.988Z"
   },
   {
    "duration": 131102,
    "start_time": "2023-07-10T10:06:07.031Z"
   },
   {
    "duration": 223,
    "start_time": "2023-07-10T10:08:18.135Z"
   },
   {
    "duration": 0,
    "start_time": "2023-07-10T10:08:18.360Z"
   },
   {
    "duration": 0,
    "start_time": "2023-07-10T10:08:18.361Z"
   },
   {
    "duration": 0,
    "start_time": "2023-07-10T10:08:18.362Z"
   },
   {
    "duration": 0,
    "start_time": "2023-07-10T10:08:18.363Z"
   },
   {
    "duration": 0,
    "start_time": "2023-07-10T10:08:18.364Z"
   },
   {
    "duration": 328296,
    "start_time": "2023-07-10T10:11:00.420Z"
   },
   {
    "duration": 330114,
    "start_time": "2023-07-10T10:19:13.498Z"
   },
   {
    "duration": 123,
    "start_time": "2023-07-10T10:27:35.909Z"
   },
   {
    "duration": 13,
    "start_time": "2023-07-10T10:27:49.657Z"
   },
   {
    "duration": 325817,
    "start_time": "2023-07-10T10:28:00.400Z"
   },
   {
    "duration": 125,
    "start_time": "2023-07-10T10:41:41.731Z"
   },
   {
    "duration": 14,
    "start_time": "2023-07-10T10:41:59.089Z"
   },
   {
    "duration": 17,
    "start_time": "2023-07-10T10:42:13.243Z"
   },
   {
    "duration": 128,
    "start_time": "2023-07-10T10:43:54.520Z"
   },
   {
    "duration": 95520,
    "start_time": "2023-07-10T10:44:13.216Z"
   },
   {
    "duration": 60604,
    "start_time": "2023-07-10T10:46:54.520Z"
   },
   {
    "duration": 124773,
    "start_time": "2023-07-10T10:48:06.460Z"
   },
   {
    "duration": 138053,
    "start_time": "2023-07-10T10:50:23.282Z"
   },
   {
    "duration": 108965,
    "start_time": "2023-07-10T10:53:22.678Z"
   },
   {
    "duration": 93631,
    "start_time": "2023-07-10T10:57:23.306Z"
   },
   {
    "duration": 108697,
    "start_time": "2023-07-10T10:59:29.641Z"
   },
   {
    "duration": 112075,
    "start_time": "2023-07-10T11:13:27.468Z"
   },
   {
    "duration": 109080,
    "start_time": "2023-07-10T11:19:33.756Z"
   },
   {
    "duration": 5,
    "start_time": "2023-07-10T11:23:41.787Z"
   },
   {
    "duration": 16,
    "start_time": "2023-07-10T11:23:56.063Z"
   },
   {
    "duration": 29,
    "start_time": "2023-07-10T11:24:18.695Z"
   },
   {
    "duration": 658,
    "start_time": "2023-07-10T11:24:33.269Z"
   },
   {
    "duration": 697,
    "start_time": "2023-07-10T11:24:49.693Z"
   },
   {
    "duration": 66345,
    "start_time": "2023-07-10T11:25:12.810Z"
   },
   {
    "duration": 66055,
    "start_time": "2023-07-10T11:27:32.345Z"
   },
   {
    "duration": 119086,
    "start_time": "2023-07-10T11:29:10.035Z"
   },
   {
    "duration": 260929,
    "start_time": "2023-07-10T11:35:24.455Z"
   },
   {
    "duration": 722326,
    "start_time": "2023-07-10T11:40:00.159Z"
   },
   {
    "duration": 477292,
    "start_time": "2023-07-10T11:52:45.345Z"
   },
   {
    "duration": 323014,
    "start_time": "2023-07-10T12:02:27.570Z"
   },
   {
    "duration": 514045,
    "start_time": "2023-07-10T12:08:47.327Z"
   },
   {
    "duration": 585797,
    "start_time": "2023-07-10T12:21:56.367Z"
   },
   {
    "duration": 754582,
    "start_time": "2023-07-10T12:34:36.790Z"
   },
   {
    "duration": 756968,
    "start_time": "2023-07-10T12:50:04.715Z"
   },
   {
    "duration": 146,
    "start_time": "2023-07-10T13:10:48.338Z"
   },
   {
    "duration": 91726,
    "start_time": "2023-07-10T13:11:06.841Z"
   },
   {
    "duration": 117813,
    "start_time": "2023-07-10T13:20:17.028Z"
   },
   {
    "duration": 102286,
    "start_time": "2023-07-10T13:28:46.028Z"
   },
   {
    "duration": 94633,
    "start_time": "2023-07-10T13:32:08.927Z"
   },
   {
    "duration": 88235,
    "start_time": "2023-07-10T13:34:38.041Z"
   },
   {
    "duration": 91223,
    "start_time": "2023-07-10T13:36:27.259Z"
   },
   {
    "duration": 86641,
    "start_time": "2023-07-10T13:38:44.309Z"
   },
   {
    "duration": 83057,
    "start_time": "2023-07-10T13:41:15.211Z"
   },
   {
    "duration": 84191,
    "start_time": "2023-07-10T13:43:05.456Z"
   },
   {
    "duration": 86465,
    "start_time": "2023-07-10T13:44:53.204Z"
   },
   {
    "duration": 85481,
    "start_time": "2023-07-10T13:46:32.801Z"
   },
   {
    "duration": 86808,
    "start_time": "2023-07-10T13:50:28.645Z"
   },
   {
    "duration": 334729,
    "start_time": "2023-07-10T13:52:50.032Z"
   },
   {
    "duration": 43287,
    "start_time": "2023-07-10T14:02:06.632Z"
   },
   {
    "duration": 324706,
    "start_time": "2023-07-10T14:03:37.619Z"
   },
   {
    "duration": 322940,
    "start_time": "2023-07-10T14:09:49.939Z"
   },
   {
    "duration": 80139,
    "start_time": "2023-07-10T14:26:21.301Z"
   },
   {
    "duration": 924,
    "start_time": "2023-07-10T14:39:41.284Z"
   },
   {
    "duration": 4,
    "start_time": "2023-07-10T14:41:02.715Z"
   },
   {
    "duration": 247,
    "start_time": "2023-07-10T14:41:06.986Z"
   },
   {
    "duration": 949288,
    "start_time": "2023-07-10T14:41:24.165Z"
   },
   {
    "duration": 6,
    "start_time": "2023-07-10T15:00:44.440Z"
   },
   {
    "duration": 12,
    "start_time": "2023-07-10T15:01:27.036Z"
   },
   {
    "duration": 5,
    "start_time": "2023-07-10T15:02:35.109Z"
   },
   {
    "duration": 5,
    "start_time": "2023-07-10T15:03:14.895Z"
   },
   {
    "duration": 985792,
    "start_time": "2023-07-10T15:03:42.223Z"
   },
   {
    "duration": 2672886,
    "start_time": "2023-07-10T15:33:59.073Z"
   },
   {
    "duration": 6,
    "start_time": "2023-07-10T16:18:31.962Z"
   },
   {
    "duration": 0,
    "start_time": "2023-07-10T16:24:33.229Z"
   },
   {
    "duration": 0,
    "start_time": "2023-07-10T16:24:33.230Z"
   },
   {
    "duration": 0,
    "start_time": "2023-07-10T16:24:33.231Z"
   },
   {
    "duration": 11,
    "start_time": "2023-07-10T16:26:16.718Z"
   },
   {
    "duration": 10,
    "start_time": "2023-07-10T16:26:35.481Z"
   },
   {
    "duration": 11,
    "start_time": "2023-07-10T16:26:42.317Z"
   },
   {
    "duration": 4,
    "start_time": "2023-07-10T16:27:05.463Z"
   },
   {
    "duration": 98,
    "start_time": "2023-07-10T16:27:22.502Z"
   },
   {
    "duration": 109550,
    "start_time": "2023-07-10T16:27:47.891Z"
   },
   {
    "duration": 15,
    "start_time": "2023-07-10T16:29:37.444Z"
   },
   {
    "duration": 0,
    "start_time": "2023-07-10T16:29:37.461Z"
   },
   {
    "duration": 0,
    "start_time": "2023-07-10T16:29:37.462Z"
   },
   {
    "duration": 0,
    "start_time": "2023-07-10T16:29:37.463Z"
   },
   {
    "duration": 14421,
    "start_time": "2023-07-10T17:27:14.047Z"
   },
   {
    "duration": 438,
    "start_time": "2023-07-10T17:30:02.570Z"
   },
   {
    "duration": 4,
    "start_time": "2023-07-10T17:30:07.359Z"
   },
   {
    "duration": 81,
    "start_time": "2023-07-10T17:30:23.131Z"
   },
   {
    "duration": 16202,
    "start_time": "2023-07-10T17:30:26.258Z"
   },
   {
    "duration": 2765366,
    "start_time": "2023-07-10T17:30:50.088Z"
   },
   {
    "duration": 4,
    "start_time": "2023-07-10T18:16:55.457Z"
   },
   {
    "duration": 23,
    "start_time": "2023-07-10T18:16:55.463Z"
   },
   {
    "duration": 104006,
    "start_time": "2023-07-10T18:21:13.539Z"
   },
   {
    "duration": 10,
    "start_time": "2023-07-10T18:23:59.361Z"
   },
   {
    "duration": 13,
    "start_time": "2023-07-10T18:24:00.898Z"
   },
   {
    "duration": 13899,
    "start_time": "2023-07-10T18:27:46.643Z"
   },
   {
    "duration": 19,
    "start_time": "2023-07-10T18:30:00.021Z"
   },
   {
    "duration": 102153,
    "start_time": "2023-07-10T18:30:31.483Z"
   },
   {
    "duration": 5,
    "start_time": "2023-07-10T18:32:13.638Z"
   },
   {
    "duration": 13680,
    "start_time": "2023-07-10T18:33:31.467Z"
   },
   {
    "duration": 13627,
    "start_time": "2023-07-10T18:33:54.429Z"
   },
   {
    "duration": 193777,
    "start_time": "2023-07-10T18:34:38.345Z"
   },
   {
    "duration": 3,
    "start_time": "2023-07-10T18:37:52.125Z"
   },
   {
    "duration": 27329,
    "start_time": "2023-07-10T18:37:52.130Z"
   },
   {
    "duration": 27790,
    "start_time": "2023-07-10T18:38:19.462Z"
   },
   {
    "duration": 13,
    "start_time": "2023-07-10T18:39:07.087Z"
   },
   {
    "duration": 106,
    "start_time": "2023-07-10T18:39:08.399Z"
   },
   {
    "duration": 3,
    "start_time": "2023-07-10T18:39:14.138Z"
   },
   {
    "duration": 4,
    "start_time": "2023-07-10T18:39:59.950Z"
   },
   {
    "duration": 4363570,
    "start_time": "2023-07-10T18:40:28.133Z"
   },
   {
    "duration": 20,
    "start_time": "2023-07-10T19:53:11.706Z"
   },
   {
    "duration": 16,
    "start_time": "2023-07-10T19:53:11.728Z"
   },
   {
    "duration": 82,
    "start_time": "2023-07-10T19:57:18.523Z"
   },
   {
    "duration": 41,
    "start_time": "2023-07-10T19:57:29.299Z"
   },
   {
    "duration": 36,
    "start_time": "2023-07-10T19:58:46.795Z"
   },
   {
    "duration": 3667851,
    "start_time": "2023-07-11T00:30:02.125Z"
   },
   {
    "duration": 4,
    "start_time": "2023-07-11T01:31:09.979Z"
   },
   {
    "duration": 24,
    "start_time": "2023-07-11T01:31:09.985Z"
   },
   {
    "duration": 1288,
    "start_time": "2023-07-11T04:18:11.887Z"
   },
   {
    "duration": 2328,
    "start_time": "2023-07-11T04:18:13.176Z"
   },
   {
    "duration": 13,
    "start_time": "2023-07-11T04:18:15.505Z"
   },
   {
    "duration": 31,
    "start_time": "2023-07-11T04:18:15.520Z"
   },
   {
    "duration": 4,
    "start_time": "2023-07-11T04:18:15.552Z"
   },
   {
    "duration": 24,
    "start_time": "2023-07-11T04:18:15.557Z"
   },
   {
    "duration": 2014,
    "start_time": "2023-07-11T04:18:15.583Z"
   },
   {
    "duration": 6,
    "start_time": "2023-07-11T04:18:17.599Z"
   },
   {
    "duration": 7,
    "start_time": "2023-07-11T04:18:17.606Z"
   },
   {
    "duration": 18,
    "start_time": "2023-07-11T04:18:17.615Z"
   },
   {
    "duration": 257015,
    "start_time": "2023-07-11T04:18:17.634Z"
   },
   {
    "duration": 27,
    "start_time": "2023-07-11T04:22:34.651Z"
   },
   {
    "duration": 10,
    "start_time": "2023-07-11T04:22:34.679Z"
   },
   {
    "duration": 9,
    "start_time": "2023-07-11T04:22:34.690Z"
   },
   {
    "duration": 45,
    "start_time": "2023-07-11T04:22:34.700Z"
   },
   {
    "duration": 135,
    "start_time": "2023-07-11T04:22:34.747Z"
   },
   {
    "duration": 4,
    "start_time": "2023-07-11T04:22:34.884Z"
   },
   {
    "duration": 22,
    "start_time": "2023-07-11T04:22:34.890Z"
   },
   {
    "duration": 4897,
    "start_time": "2023-07-11T04:22:34.914Z"
   },
   {
    "duration": 1504,
    "start_time": "2023-07-11T04:22:39.812Z"
   },
   {
    "duration": 3,
    "start_time": "2023-07-11T04:22:41.318Z"
   },
   {
    "duration": 3229569,
    "start_time": "2023-07-11T04:22:41.322Z"
   },
   {
    "duration": 5,
    "start_time": "2023-07-11T05:16:30.896Z"
   },
   {
    "duration": 52,
    "start_time": "2023-07-11T05:16:30.904Z"
   },
   {
    "duration": 188149,
    "start_time": "2023-07-11T05:16:30.958Z"
   },
   {
    "duration": 5,
    "start_time": "2023-07-11T05:19:39.110Z"
   },
   {
    "duration": 2588516,
    "start_time": "2023-07-11T05:19:39.117Z"
   },
   {
    "duration": 4,
    "start_time": "2023-07-11T06:02:47.637Z"
   },
   {
    "duration": 8,
    "start_time": "2023-07-11T06:02:47.642Z"
   },
   {
    "duration": 168,
    "start_time": "2023-07-11T06:02:47.652Z"
   },
   {
    "duration": 0,
    "start_time": "2023-07-11T06:02:47.824Z"
   },
   {
    "duration": 0,
    "start_time": "2023-07-11T06:02:47.825Z"
   },
   {
    "duration": 0,
    "start_time": "2023-07-11T06:02:47.827Z"
   },
   {
    "duration": 0,
    "start_time": "2023-07-11T06:02:47.828Z"
   },
   {
    "duration": 11,
    "start_time": "2023-07-11T06:09:19.252Z"
   },
   {
    "duration": 1138,
    "start_time": "2023-07-11T06:10:03.631Z"
   },
   {
    "duration": 362,
    "start_time": "2023-07-11T06:10:14.959Z"
   },
   {
    "duration": 27,
    "start_time": "2023-07-11T06:10:19.545Z"
   },
   {
    "duration": 3,
    "start_time": "2023-07-11T06:10:27.531Z"
   },
   {
    "duration": 7,
    "start_time": "2023-07-11T06:10:30.747Z"
   },
   {
    "duration": 24832,
    "start_time": "2023-07-11T06:10:37.101Z"
   },
   {
    "duration": 24798,
    "start_time": "2023-07-11T06:11:01.935Z"
   },
   {
    "duration": 180,
    "start_time": "2023-07-11T07:56:40.847Z"
   },
   {
    "duration": 4,
    "start_time": "2023-07-11T07:56:51.708Z"
   },
   {
    "duration": 207,
    "start_time": "2023-07-11T08:01:40.411Z"
   },
   {
    "duration": 3,
    "start_time": "2023-07-11T08:55:00.703Z"
   },
   {
    "duration": 3,
    "start_time": "2023-07-11T08:56:46.557Z"
   },
   {
    "duration": 2,
    "start_time": "2023-07-11T08:56:51.624Z"
   },
   {
    "duration": 3,
    "start_time": "2023-07-11T09:00:10.265Z"
   },
   {
    "duration": 2,
    "start_time": "2023-07-11T09:00:19.397Z"
   },
   {
    "duration": 3,
    "start_time": "2023-07-11T09:05:43.294Z"
   },
   {
    "duration": 1305,
    "start_time": "2023-07-11T09:06:17.295Z"
   },
   {
    "duration": 3,
    "start_time": "2023-07-11T09:06:47.508Z"
   },
   {
    "duration": 6219,
    "start_time": "2023-07-11T09:06:48.824Z"
   },
   {
    "duration": 149,
    "start_time": "2023-07-11T09:07:38.099Z"
   },
   {
    "duration": 82,
    "start_time": "2023-07-11T09:07:59.597Z"
   },
   {
    "duration": 29,
    "start_time": "2023-07-11T09:08:26.909Z"
   },
   {
    "duration": 17,
    "start_time": "2023-07-11T09:08:40.158Z"
   },
   {
    "duration": 5,
    "start_time": "2023-07-11T09:08:59.504Z"
   },
   {
    "duration": 3,
    "start_time": "2023-07-11T09:09:17.798Z"
   },
   {
    "duration": 571,
    "start_time": "2023-07-11T09:09:19.853Z"
   },
   {
    "duration": 5,
    "start_time": "2023-07-11T09:09:22.661Z"
   },
   {
    "duration": 2,
    "start_time": "2023-07-11T09:09:41.894Z"
   },
   {
    "duration": 591,
    "start_time": "2023-07-11T09:09:46.867Z"
   },
   {
    "duration": 5,
    "start_time": "2023-07-11T09:09:47.491Z"
   },
   {
    "duration": 1872,
    "start_time": "2023-07-11T09:10:47.291Z"
   },
   {
    "duration": 3,
    "start_time": "2023-07-11T09:11:03.352Z"
   },
   {
    "duration": 1755,
    "start_time": "2023-07-11T09:11:15.805Z"
   },
   {
    "duration": 6,
    "start_time": "2023-07-11T09:11:17.562Z"
   },
   {
    "duration": 3,
    "start_time": "2023-07-11T09:12:19.594Z"
   },
   {
    "duration": 3,
    "start_time": "2023-07-11T09:12:34.843Z"
   },
   {
    "duration": 1737,
    "start_time": "2023-07-11T09:12:41.728Z"
   },
   {
    "duration": 5,
    "start_time": "2023-07-11T09:12:45.739Z"
   },
   {
    "duration": 2,
    "start_time": "2023-07-11T09:13:01.033Z"
   },
   {
    "duration": 4,
    "start_time": "2023-07-11T09:13:02.497Z"
   },
   {
    "duration": 11,
    "start_time": "2023-07-11T09:14:13.237Z"
   },
   {
    "duration": 7,
    "start_time": "2023-07-11T09:14:23.363Z"
   },
   {
    "duration": 596,
    "start_time": "2023-07-11T09:15:42.325Z"
   },
   {
    "duration": 3,
    "start_time": "2023-07-11T09:16:10.813Z"
   },
   {
    "duration": 4,
    "start_time": "2023-07-11T09:16:28.700Z"
   },
   {
    "duration": 11,
    "start_time": "2023-07-11T09:16:33.615Z"
   },
   {
    "duration": 11,
    "start_time": "2023-07-11T09:19:13.434Z"
   },
   {
    "duration": 10,
    "start_time": "2023-07-11T09:20:33.809Z"
   },
   {
    "duration": 4,
    "start_time": "2023-07-11T09:20:42.288Z"
   },
   {
    "duration": 758,
    "start_time": "2023-07-11T09:20:42.873Z"
   },
   {
    "duration": 7,
    "start_time": "2023-07-11T09:20:45.399Z"
   },
   {
    "duration": 31,
    "start_time": "2023-07-11T09:20:48.295Z"
   },
   {
    "duration": 4,
    "start_time": "2023-07-11T09:20:51.400Z"
   },
   {
    "duration": 9,
    "start_time": "2023-07-11T09:20:54.892Z"
   },
   {
    "duration": 10,
    "start_time": "2023-07-11T09:20:59.617Z"
   },
   {
    "duration": 3,
    "start_time": "2023-07-11T09:21:13.706Z"
   },
   {
    "duration": 5,
    "start_time": "2023-07-11T09:21:14.961Z"
   },
   {
    "duration": 3,
    "start_time": "2023-07-11T09:21:16.238Z"
   },
   {
    "duration": 4,
    "start_time": "2023-07-11T09:21:19.224Z"
   },
   {
    "duration": 2467,
    "start_time": "2023-07-11T09:21:19.924Z"
   },
   {
    "duration": 6,
    "start_time": "2023-07-11T09:21:22.393Z"
   },
   {
    "duration": 10,
    "start_time": "2023-07-11T09:21:28.047Z"
   },
   {
    "duration": 8,
    "start_time": "2023-07-11T09:21:32.694Z"
   },
   {
    "duration": 2,
    "start_time": "2023-07-11T09:21:33.700Z"
   },
   {
    "duration": 3,
    "start_time": "2023-07-11T09:21:35.516Z"
   },
   {
    "duration": 12,
    "start_time": "2023-07-11T09:21:36.509Z"
   },
   {
    "duration": 4,
    "start_time": "2023-07-11T09:21:38.000Z"
   },
   {
    "duration": 3,
    "start_time": "2023-07-11T09:21:39.300Z"
   },
   {
    "duration": 11,
    "start_time": "2023-07-11T09:21:40.104Z"
   },
   {
    "duration": 1574,
    "start_time": "2023-07-11T11:29:02.596Z"
   },
   {
    "duration": 3539,
    "start_time": "2023-07-11T11:29:04.175Z"
   },
   {
    "duration": 18,
    "start_time": "2023-07-11T11:29:07.717Z"
   },
   {
    "duration": 53,
    "start_time": "2023-07-11T11:29:12.544Z"
   },
   {
    "duration": 4,
    "start_time": "2023-07-11T11:29:16.397Z"
   },
   {
    "duration": 11,
    "start_time": "2023-07-11T11:29:17.990Z"
   },
   {
    "duration": 3,
    "start_time": "2023-07-11T11:29:21.346Z"
   },
   {
    "duration": 354,
    "start_time": "2023-07-11T11:29:22.330Z"
   },
   {
    "duration": 3,
    "start_time": "2023-07-11T11:29:23.708Z"
   },
   {
    "duration": 4,
    "start_time": "2023-07-11T11:29:27.492Z"
   },
   {
    "duration": 3475,
    "start_time": "2023-07-11T11:29:28.598Z"
   },
   {
    "duration": 5,
    "start_time": "2023-07-11T11:29:34.329Z"
   },
   {
    "duration": 117,
    "start_time": "2023-07-11T11:30:00.726Z"
   },
   {
    "duration": 9,
    "start_time": "2023-07-11T11:30:10.071Z"
   },
   {
    "duration": 3288,
    "start_time": "2023-07-11T11:30:12.437Z"
   },
   {
    "duration": 5,
    "start_time": "2023-07-11T11:30:20.003Z"
   },
   {
    "duration": 164,
    "start_time": "2023-07-11T11:30:33.446Z"
   },
   {
    "duration": 2,
    "start_time": "2023-07-11T11:30:54.035Z"
   },
   {
    "duration": 11,
    "start_time": "2023-07-11T11:30:58.440Z"
   },
   {
    "duration": 22,
    "start_time": "2023-07-11T11:31:00.364Z"
   },
   {
    "duration": 6,
    "start_time": "2023-07-11T11:31:02.182Z"
   },
   {
    "duration": 649,
    "start_time": "2023-07-11T11:31:03.840Z"
   },
   {
    "duration": 4,
    "start_time": "2023-07-11T11:31:06.702Z"
   },
   {
    "duration": 7,
    "start_time": "2023-07-11T11:31:08.332Z"
   },
   {
    "duration": 15,
    "start_time": "2023-07-11T11:31:40.504Z"
   },
   {
    "duration": 208,
    "start_time": "2023-07-11T11:35:18.595Z"
   },
   {
    "duration": 9,
    "start_time": "2023-07-11T11:35:20.672Z"
   },
   {
    "duration": 4,
    "start_time": "2023-07-11T11:35:23.450Z"
   },
   {
    "duration": 12,
    "start_time": "2023-07-11T11:35:24.803Z"
   },
   {
    "duration": 4,
    "start_time": "2023-07-11T11:36:05.730Z"
   },
   {
    "duration": 3,
    "start_time": "2023-07-11T11:36:06.646Z"
   },
   {
    "duration": 14,
    "start_time": "2023-07-11T11:36:09.518Z"
   },
   {
    "duration": 3,
    "start_time": "2023-07-11T11:49:59.294Z"
   },
   {
    "duration": 7,
    "start_time": "2023-07-11T11:50:00.192Z"
   },
   {
    "duration": 4,
    "start_time": "2023-07-11T11:50:00.948Z"
   },
   {
    "duration": 190,
    "start_time": "2023-07-11T11:50:14.887Z"
   },
   {
    "duration": 197,
    "start_time": "2023-07-11T11:50:37.295Z"
   },
   {
    "duration": 7,
    "start_time": "2023-07-11T11:50:39.220Z"
   },
   {
    "duration": 6,
    "start_time": "2023-07-11T11:50:46.183Z"
   },
   {
    "duration": 6,
    "start_time": "2023-07-11T11:50:47.167Z"
   },
   {
    "duration": 4,
    "start_time": "2023-07-11T11:50:50.243Z"
   },
   {
    "duration": 8,
    "start_time": "2023-07-11T11:50:51.607Z"
   },
   {
    "duration": 5,
    "start_time": "2023-07-11T11:50:53.407Z"
   },
   {
    "duration": 5,
    "start_time": "2023-07-11T11:50:54.507Z"
   },
   {
    "duration": 15,
    "start_time": "2023-07-11T11:50:56.210Z"
   },
   {
    "duration": 12,
    "start_time": "2023-07-11T11:52:15.021Z"
   },
   {
    "duration": 8157,
    "start_time": "2023-07-11T11:52:24.615Z"
   },
   {
    "duration": 14,
    "start_time": "2023-07-11T11:52:53.519Z"
   },
   {
    "duration": 17,
    "start_time": "2023-07-11T11:53:00.783Z"
   },
   {
    "duration": 5,
    "start_time": "2023-07-11T12:03:30.662Z"
   },
   {
    "duration": 876,
    "start_time": "2023-07-11T12:03:31.445Z"
   },
   {
    "duration": 8,
    "start_time": "2023-07-11T12:03:33.894Z"
   },
   {
    "duration": 37,
    "start_time": "2023-07-11T12:03:34.713Z"
   },
   {
    "duration": 4,
    "start_time": "2023-07-11T12:03:36.279Z"
   },
   {
    "duration": 12,
    "start_time": "2023-07-11T12:03:38.654Z"
   },
   {
    "duration": 3,
    "start_time": "2023-07-11T12:03:42.337Z"
   },
   {
    "duration": 2,
    "start_time": "2023-07-11T12:03:43.849Z"
   },
   {
    "duration": 3,
    "start_time": "2023-07-11T12:03:45.405Z"
   },
   {
    "duration": 3,
    "start_time": "2023-07-11T12:03:46.130Z"
   },
   {
    "duration": 14,
    "start_time": "2023-07-11T12:03:46.895Z"
   },
   {
    "duration": 369485,
    "start_time": "2023-07-11T12:03:47.926Z"
   },
   {
    "duration": 14,
    "start_time": "2023-07-11T12:09:57.413Z"
   },
   {
    "duration": 2695,
    "start_time": "2023-07-11T13:08:29.094Z"
   },
   {
    "duration": 294,
    "start_time": "2023-07-11T13:17:10.103Z"
   },
   {
    "duration": 4,
    "start_time": "2023-07-11T13:22:05.081Z"
   },
   {
    "duration": 902,
    "start_time": "2023-07-11T13:22:05.933Z"
   },
   {
    "duration": 10,
    "start_time": "2023-07-11T13:22:10.705Z"
   },
   {
    "duration": 33,
    "start_time": "2023-07-11T13:22:14.968Z"
   },
   {
    "duration": 5,
    "start_time": "2023-07-11T13:22:18.978Z"
   },
   {
    "duration": 10,
    "start_time": "2023-07-11T13:22:21.764Z"
   },
   {
    "duration": 12,
    "start_time": "2023-07-11T13:22:51.783Z"
   },
   {
    "duration": 121,
    "start_time": "2023-07-11T13:27:00.232Z"
   },
   {
    "duration": 27,
    "start_time": "2023-07-11T13:27:07.234Z"
   },
   {
    "duration": 458,
    "start_time": "2023-07-11T13:27:34.896Z"
   },
   {
    "duration": 44,
    "start_time": "2023-07-11T13:27:41.318Z"
   },
   {
    "duration": 200,
    "start_time": "2023-07-11T13:27:51.049Z"
   },
   {
    "duration": 3,
    "start_time": "2023-07-11T13:29:43.829Z"
   },
   {
    "duration": 4,
    "start_time": "2023-07-11T13:29:45.430Z"
   },
   {
    "duration": 21,
    "start_time": "2023-07-11T13:30:10.712Z"
   },
   {
    "duration": 119,
    "start_time": "2023-07-11T13:30:31.549Z"
   },
   {
    "duration": 3,
    "start_time": "2023-07-11T13:33:26.943Z"
   },
   {
    "duration": 3,
    "start_time": "2023-07-11T13:33:30.628Z"
   },
   {
    "duration": 200,
    "start_time": "2023-07-11T13:33:37.854Z"
   },
   {
    "duration": 5,
    "start_time": "2023-07-11T13:33:40.499Z"
   },
   {
    "duration": 3,
    "start_time": "2023-07-11T13:33:42.792Z"
   },
   {
    "duration": 29,
    "start_time": "2023-07-11T13:33:55.433Z"
   },
   {
    "duration": 43,
    "start_time": "2023-07-11T13:34:07.412Z"
   },
   {
    "duration": 8,
    "start_time": "2023-07-11T13:37:04.409Z"
   },
   {
    "duration": 7,
    "start_time": "2023-07-11T13:44:28.099Z"
   },
   {
    "duration": 921,
    "start_time": "2023-07-11T13:44:30.137Z"
   },
   {
    "duration": 19,
    "start_time": "2023-07-11T13:44:31.584Z"
   },
   {
    "duration": 864,
    "start_time": "2023-07-11T13:46:40.348Z"
   },
   {
    "duration": 14,
    "start_time": "2023-07-11T13:46:45.272Z"
   },
   {
    "duration": 7,
    "start_time": "2023-07-11T13:47:55.047Z"
   },
   {
    "duration": 10,
    "start_time": "2023-07-11T13:48:05.198Z"
   },
   {
    "duration": 2,
    "start_time": "2023-07-11T13:52:27.804Z"
   },
   {
    "duration": 7578,
    "start_time": "2023-07-11T13:54:46.430Z"
   },
   {
    "duration": 3,
    "start_time": "2023-07-11T13:55:03.617Z"
   },
   {
    "duration": 972,
    "start_time": "2023-07-11T13:55:06.535Z"
   },
   {
    "duration": 6,
    "start_time": "2023-07-11T13:55:22.511Z"
   },
   {
    "duration": 866,
    "start_time": "2023-07-11T13:55:23.232Z"
   },
   {
    "duration": 880,
    "start_time": "2023-07-11T13:55:25.184Z"
   },
   {
    "duration": 11,
    "start_time": "2023-07-11T13:55:27.285Z"
   },
   {
    "duration": 32,
    "start_time": "2023-07-11T13:55:27.931Z"
   },
   {
    "duration": 5,
    "start_time": "2023-07-11T13:55:32.279Z"
   },
   {
    "duration": 10,
    "start_time": "2023-07-11T13:55:33.429Z"
   },
   {
    "duration": 191,
    "start_time": "2023-07-11T13:55:34.279Z"
   },
   {
    "duration": 3,
    "start_time": "2023-07-11T13:55:39.355Z"
   },
   {
    "duration": 4429,
    "start_time": "2023-07-11T13:55:40.696Z"
   },
   {
    "duration": 3,
    "start_time": "2023-07-11T13:58:24.606Z"
   },
   {
    "duration": 4,
    "start_time": "2023-07-11T13:58:41.450Z"
   },
   {
    "duration": 3,
    "start_time": "2023-07-11T14:01:06.099Z"
   },
   {
    "duration": 3,
    "start_time": "2023-07-11T14:04:04.894Z"
   },
   {
    "duration": 4,
    "start_time": "2023-07-11T14:05:26.799Z"
   },
   {
    "duration": 1235279,
    "start_time": "2023-07-11T14:05:57.725Z"
   },
   {
    "duration": 8,
    "start_time": "2023-07-11T14:26:33.006Z"
   },
   {
    "duration": 12,
    "start_time": "2023-07-11T14:29:34.407Z"
   },
   {
    "duration": 99,
    "start_time": "2023-07-11T14:34:10.535Z"
   },
   {
    "duration": 9,
    "start_time": "2023-07-11T14:35:42.791Z"
   },
   {
    "duration": 3,
    "start_time": "2023-07-11T14:36:51.423Z"
   },
   {
    "duration": 30,
    "start_time": "2023-07-11T14:36:58.704Z"
   },
   {
    "duration": 269,
    "start_time": "2023-07-11T14:37:13.207Z"
   },
   {
    "duration": 4,
    "start_time": "2023-07-11T14:38:29.890Z"
   },
   {
    "duration": 3,
    "start_time": "2023-07-11T14:38:32.653Z"
   },
   {
    "duration": 3,
    "start_time": "2023-07-11T14:38:34.540Z"
   },
   {
    "duration": 5524,
    "start_time": "2023-07-11T14:38:46.392Z"
   },
   {
    "duration": 1684,
    "start_time": "2023-07-11T14:38:52.989Z"
   },
   {
    "duration": 3,
    "start_time": "2023-07-11T14:40:13.927Z"
   },
   {
    "duration": 3,
    "start_time": "2023-07-11T14:40:15.022Z"
   },
   {
    "duration": 3608828,
    "start_time": "2023-07-11T15:39:25.029Z"
   },
   {
    "duration": 6,
    "start_time": "2023-07-11T16:39:33.859Z"
   },
   {
    "duration": 7,
    "start_time": "2023-07-11T16:39:33.871Z"
   },
   {
    "duration": 194254,
    "start_time": "2023-07-11T16:41:08.607Z"
   },
   {
    "duration": 6,
    "start_time": "2023-07-11T16:44:22.863Z"
   },
   {
    "duration": 2492018,
    "start_time": "2023-07-11T16:52:03.393Z"
   },
   {
    "duration": 4,
    "start_time": "2023-07-11T17:33:35.414Z"
   },
   {
    "duration": 10,
    "start_time": "2023-07-11T17:33:35.420Z"
   },
   {
    "duration": 4,
    "start_time": "2023-07-11T17:33:35.432Z"
   },
   {
    "duration": 3,
    "start_time": "2023-07-11T17:38:18.638Z"
   },
   {
    "duration": 7,
    "start_time": "2023-07-11T17:38:22.042Z"
   },
   {
    "duration": 24936,
    "start_time": "2023-07-11T17:38:39.534Z"
   },
   {
    "duration": 24922,
    "start_time": "2023-07-11T17:39:04.473Z"
   },
   {
    "duration": 2704640,
    "start_time": "2023-07-11T17:49:18.068Z"
   },
   {
    "duration": 4,
    "start_time": "2023-07-11T18:34:22.710Z"
   },
   {
    "duration": 6,
    "start_time": "2023-07-11T18:34:22.716Z"
   },
   {
    "duration": 12,
    "start_time": "2023-07-11T18:38:52.387Z"
   },
   {
    "duration": 4629,
    "start_time": "2023-11-05T18:20:35.879Z"
   },
   {
    "duration": 2369,
    "start_time": "2023-11-05T18:20:40.511Z"
   },
   {
    "duration": 16,
    "start_time": "2023-11-05T18:20:42.881Z"
   },
   {
    "duration": 40,
    "start_time": "2023-11-05T18:20:42.898Z"
   },
   {
    "duration": 6,
    "start_time": "2023-11-05T18:20:42.940Z"
   },
   {
    "duration": 10,
    "start_time": "2023-11-05T18:20:42.948Z"
   },
   {
    "duration": 196,
    "start_time": "2023-11-05T18:20:42.960Z"
   },
   {
    "duration": 4,
    "start_time": "2023-11-05T18:20:43.157Z"
   },
   {
    "duration": 4236,
    "start_time": "2023-11-05T18:20:43.162Z"
   },
   {
    "duration": 6,
    "start_time": "2023-11-05T18:20:47.401Z"
   },
   {
    "duration": 5,
    "start_time": "2023-11-05T18:20:47.408Z"
   },
   {
    "duration": 4,
    "start_time": "2023-11-05T18:20:47.415Z"
   },
   {
    "duration": 4,
    "start_time": "2023-11-05T18:20:47.420Z"
   },
   {
    "duration": 696,
    "start_time": "2023-11-05T18:20:47.427Z"
   },
   {
    "duration": 0,
    "start_time": "2023-11-05T18:20:48.125Z"
   },
   {
    "duration": 0,
    "start_time": "2023-11-05T18:20:48.127Z"
   },
   {
    "duration": 0,
    "start_time": "2023-11-05T18:20:48.128Z"
   },
   {
    "duration": 0,
    "start_time": "2023-11-05T18:20:48.129Z"
   },
   {
    "duration": 0,
    "start_time": "2023-11-05T18:20:48.130Z"
   },
   {
    "duration": 0,
    "start_time": "2023-11-05T18:20:48.131Z"
   },
   {
    "duration": 0,
    "start_time": "2023-11-05T18:20:48.132Z"
   },
   {
    "duration": 0,
    "start_time": "2023-11-05T18:20:48.133Z"
   },
   {
    "duration": 0,
    "start_time": "2023-11-05T18:20:48.133Z"
   },
   {
    "duration": 0,
    "start_time": "2023-11-05T18:20:48.134Z"
   },
   {
    "duration": 0,
    "start_time": "2023-11-05T18:20:48.135Z"
   },
   {
    "duration": 0,
    "start_time": "2023-11-05T18:20:48.136Z"
   },
   {
    "duration": 0,
    "start_time": "2023-11-05T18:20:48.138Z"
   },
   {
    "duration": 0,
    "start_time": "2023-11-05T18:20:48.139Z"
   },
   {
    "duration": 0,
    "start_time": "2023-11-05T18:20:48.139Z"
   },
   {
    "duration": 0,
    "start_time": "2023-11-05T18:20:48.140Z"
   },
   {
    "duration": 0,
    "start_time": "2023-11-05T18:20:48.142Z"
   },
   {
    "duration": 0,
    "start_time": "2023-11-05T18:20:48.143Z"
   },
   {
    "duration": 0,
    "start_time": "2023-11-05T18:20:48.144Z"
   },
   {
    "duration": 0,
    "start_time": "2023-11-05T18:20:48.146Z"
   },
   {
    "duration": 0,
    "start_time": "2023-11-05T18:20:48.147Z"
   },
   {
    "duration": 0,
    "start_time": "2023-11-05T18:20:48.148Z"
   },
   {
    "duration": 0,
    "start_time": "2023-11-05T18:20:48.149Z"
   },
   {
    "duration": 0,
    "start_time": "2023-11-05T18:20:48.150Z"
   },
   {
    "duration": 3996,
    "start_time": "2023-11-06T17:06:27.502Z"
   },
   {
    "duration": 2344,
    "start_time": "2023-11-06T17:06:31.500Z"
   },
   {
    "duration": 17,
    "start_time": "2023-11-06T17:06:33.845Z"
   },
   {
    "duration": 24,
    "start_time": "2023-11-06T17:06:33.863Z"
   },
   {
    "duration": 3,
    "start_time": "2023-11-06T17:06:33.888Z"
   },
   {
    "duration": 8,
    "start_time": "2023-11-06T17:06:33.893Z"
   },
   {
    "duration": 200,
    "start_time": "2023-11-06T17:06:33.903Z"
   },
   {
    "duration": 3,
    "start_time": "2023-11-06T17:06:34.104Z"
   },
   {
    "duration": 4206,
    "start_time": "2023-11-06T17:06:34.108Z"
   },
   {
    "duration": 2,
    "start_time": "2023-11-06T17:06:38.316Z"
   },
   {
    "duration": 13,
    "start_time": "2023-11-06T17:06:38.319Z"
   },
   {
    "duration": 8,
    "start_time": "2023-11-06T17:06:38.333Z"
   },
   {
    "duration": 14,
    "start_time": "2023-11-06T17:06:38.342Z"
   },
   {
    "duration": 659,
    "start_time": "2023-11-06T17:06:38.358Z"
   },
   {
    "duration": 0,
    "start_time": "2023-11-06T17:06:39.019Z"
   },
   {
    "duration": 0,
    "start_time": "2023-11-06T17:06:39.020Z"
   },
   {
    "duration": 0,
    "start_time": "2023-11-06T17:06:39.021Z"
   },
   {
    "duration": 0,
    "start_time": "2023-11-06T17:06:39.022Z"
   },
   {
    "duration": 0,
    "start_time": "2023-11-06T17:06:39.024Z"
   },
   {
    "duration": 0,
    "start_time": "2023-11-06T17:06:39.025Z"
   },
   {
    "duration": 0,
    "start_time": "2023-11-06T17:06:39.026Z"
   },
   {
    "duration": 0,
    "start_time": "2023-11-06T17:06:39.028Z"
   },
   {
    "duration": 0,
    "start_time": "2023-11-06T17:06:39.029Z"
   },
   {
    "duration": 0,
    "start_time": "2023-11-06T17:06:39.030Z"
   },
   {
    "duration": 0,
    "start_time": "2023-11-06T17:06:39.031Z"
   },
   {
    "duration": 0,
    "start_time": "2023-11-06T17:06:39.033Z"
   },
   {
    "duration": 0,
    "start_time": "2023-11-06T17:06:39.034Z"
   },
   {
    "duration": 0,
    "start_time": "2023-11-06T17:06:39.035Z"
   },
   {
    "duration": 0,
    "start_time": "2023-11-06T17:06:39.037Z"
   },
   {
    "duration": 0,
    "start_time": "2023-11-06T17:06:39.038Z"
   },
   {
    "duration": 0,
    "start_time": "2023-11-06T17:06:39.039Z"
   },
   {
    "duration": 0,
    "start_time": "2023-11-06T17:06:39.040Z"
   },
   {
    "duration": 0,
    "start_time": "2023-11-06T17:06:39.041Z"
   },
   {
    "duration": 0,
    "start_time": "2023-11-06T17:06:39.042Z"
   },
   {
    "duration": 0,
    "start_time": "2023-11-06T17:06:39.043Z"
   },
   {
    "duration": 0,
    "start_time": "2023-11-06T17:06:39.045Z"
   },
   {
    "duration": 0,
    "start_time": "2023-11-06T17:06:39.046Z"
   },
   {
    "duration": 3755,
    "start_time": "2023-11-06T17:08:14.877Z"
   },
   {
    "duration": 801,
    "start_time": "2023-11-06T17:08:18.634Z"
   },
   {
    "duration": 12,
    "start_time": "2023-11-06T17:08:19.437Z"
   },
   {
    "duration": 43,
    "start_time": "2023-11-06T17:08:19.451Z"
   },
   {
    "duration": 21,
    "start_time": "2023-11-06T17:08:19.496Z"
   },
   {
    "duration": 18,
    "start_time": "2023-11-06T17:08:19.518Z"
   },
   {
    "duration": 184,
    "start_time": "2023-11-06T17:08:19.537Z"
   },
   {
    "duration": 3,
    "start_time": "2023-11-06T17:08:19.723Z"
   },
   {
    "duration": 4561,
    "start_time": "2023-11-07T04:19:07.370Z"
   },
   {
    "duration": 2377,
    "start_time": "2023-11-07T04:19:11.933Z"
   },
   {
    "duration": 16,
    "start_time": "2023-11-07T04:19:14.312Z"
   },
   {
    "duration": 47,
    "start_time": "2023-11-07T04:19:14.329Z"
   },
   {
    "duration": 20,
    "start_time": "2023-11-07T04:19:14.379Z"
   },
   {
    "duration": 20,
    "start_time": "2023-11-07T04:19:14.401Z"
   },
   {
    "duration": 216,
    "start_time": "2023-11-07T04:19:14.423Z"
   },
   {
    "duration": 5,
    "start_time": "2023-11-07T04:19:14.641Z"
   },
   {
    "duration": 4774,
    "start_time": "2023-11-07T04:19:14.648Z"
   },
   {
    "duration": 3,
    "start_time": "2023-11-07T04:19:19.423Z"
   },
   {
    "duration": 34,
    "start_time": "2023-11-07T04:19:19.428Z"
   },
   {
    "duration": 11,
    "start_time": "2023-11-07T04:19:19.464Z"
   },
   {
    "duration": 37,
    "start_time": "2023-11-07T04:19:19.477Z"
   },
   {
    "duration": 40,
    "start_time": "2023-11-07T04:19:19.517Z"
   },
   {
    "duration": 18,
    "start_time": "2023-11-07T04:19:19.559Z"
   },
   {
    "duration": 416,
    "start_time": "2023-11-07T04:19:19.579Z"
   },
   {
    "duration": 0,
    "start_time": "2023-11-07T04:19:19.997Z"
   },
   {
    "duration": 0,
    "start_time": "2023-11-07T04:19:19.999Z"
   },
   {
    "duration": 0,
    "start_time": "2023-11-07T04:19:20.001Z"
   },
   {
    "duration": 0,
    "start_time": "2023-11-07T04:19:20.002Z"
   },
   {
    "duration": 0,
    "start_time": "2023-11-07T04:19:20.003Z"
   },
   {
    "duration": 0,
    "start_time": "2023-11-07T04:19:20.005Z"
   },
   {
    "duration": 0,
    "start_time": "2023-11-07T04:19:20.006Z"
   },
   {
    "duration": 0,
    "start_time": "2023-11-07T04:19:20.007Z"
   },
   {
    "duration": 0,
    "start_time": "2023-11-07T04:19:20.008Z"
   },
   {
    "duration": 0,
    "start_time": "2023-11-07T04:19:20.010Z"
   },
   {
    "duration": 0,
    "start_time": "2023-11-07T04:19:20.011Z"
   },
   {
    "duration": 0,
    "start_time": "2023-11-07T04:19:20.012Z"
   },
   {
    "duration": 0,
    "start_time": "2023-11-07T04:19:20.015Z"
   },
   {
    "duration": 0,
    "start_time": "2023-11-07T04:19:20.047Z"
   },
   {
    "duration": 0,
    "start_time": "2023-11-07T04:19:20.048Z"
   },
   {
    "duration": 0,
    "start_time": "2023-11-07T04:19:20.050Z"
   },
   {
    "duration": 0,
    "start_time": "2023-11-07T04:19:20.051Z"
   },
   {
    "duration": 0,
    "start_time": "2023-11-07T04:19:20.053Z"
   },
   {
    "duration": 0,
    "start_time": "2023-11-07T04:19:20.055Z"
   },
   {
    "duration": 0,
    "start_time": "2023-11-07T04:19:20.056Z"
   },
   {
    "duration": 4465,
    "start_time": "2023-11-07T04:23:01.240Z"
   },
   {
    "duration": 925,
    "start_time": "2023-11-07T04:23:05.707Z"
   },
   {
    "duration": 17,
    "start_time": "2023-11-07T04:23:06.634Z"
   },
   {
    "duration": 30,
    "start_time": "2023-11-07T04:23:06.652Z"
   },
   {
    "duration": 3,
    "start_time": "2023-11-07T04:23:06.684Z"
   },
   {
    "duration": 11,
    "start_time": "2023-11-07T04:23:06.689Z"
   },
   {
    "duration": 232,
    "start_time": "2023-11-07T04:23:06.701Z"
   },
   {
    "duration": 4,
    "start_time": "2023-11-07T04:23:06.935Z"
   },
   {
    "duration": 4635,
    "start_time": "2023-11-07T04:23:06.946Z"
   },
   {
    "duration": 2,
    "start_time": "2023-11-07T04:23:11.583Z"
   },
   {
    "duration": 7,
    "start_time": "2023-11-07T04:23:11.587Z"
   },
   {
    "duration": 5,
    "start_time": "2023-11-07T04:23:11.596Z"
   },
   {
    "duration": 8,
    "start_time": "2023-11-07T04:23:11.602Z"
   },
   {
    "duration": 9,
    "start_time": "2023-11-07T04:23:11.613Z"
   },
   {
    "duration": 5,
    "start_time": "2023-11-07T04:23:11.623Z"
   },
   {
    "duration": 3,
    "start_time": "2023-11-07T04:23:11.647Z"
   },
   {
    "duration": 36,
    "start_time": "2023-11-07T04:23:11.652Z"
   },
   {
    "duration": 137,
    "start_time": "2023-11-07T04:23:11.690Z"
   },
   {
    "duration": 4,
    "start_time": "2023-11-07T04:23:11.829Z"
   },
   {
    "duration": 6,
    "start_time": "2023-11-07T04:23:11.835Z"
   },
   {
    "duration": 5494,
    "start_time": "2023-11-07T04:23:11.842Z"
   },
   {
    "duration": 1816,
    "start_time": "2023-11-07T04:23:17.338Z"
   },
   {
    "duration": 3,
    "start_time": "2023-11-07T04:23:19.155Z"
   },
   {
    "duration": 4339632,
    "start_time": "2023-11-07T04:23:19.160Z"
   },
   {
    "duration": 3,
    "start_time": "2023-11-07T05:35:38.794Z"
   },
   {
    "duration": 5,
    "start_time": "2023-11-07T05:35:38.799Z"
   },
   {
    "duration": 195072,
    "start_time": "2023-11-07T05:35:38.805Z"
   },
   {
    "duration": 4,
    "start_time": "2023-11-07T05:38:53.879Z"
   },
   {
    "duration": 2775815,
    "start_time": "2023-11-07T05:38:53.884Z"
   },
   {
    "duration": 4,
    "start_time": "2023-11-07T06:25:09.701Z"
   },
   {
    "duration": 7,
    "start_time": "2023-11-07T06:25:09.707Z"
   },
   {
    "duration": 60,
    "start_time": "2023-11-07T06:25:09.716Z"
   },
   {
    "duration": 3,
    "start_time": "2023-11-07T06:25:09.778Z"
   },
   {
    "duration": 12,
    "start_time": "2023-11-07T06:25:09.782Z"
   },
   {
    "duration": 26481,
    "start_time": "2023-11-07T06:25:09.797Z"
   },
   {
    "duration": 26608,
    "start_time": "2023-11-07T06:25:36.280Z"
   },
   {
    "duration": 5042,
    "start_time": "2023-11-07T09:17:39.543Z"
   },
   {
    "duration": 2562,
    "start_time": "2023-11-07T09:17:44.587Z"
   },
   {
    "duration": 21,
    "start_time": "2023-11-07T09:17:47.152Z"
   },
   {
    "duration": 54,
    "start_time": "2023-11-07T09:17:47.175Z"
   },
   {
    "duration": 5,
    "start_time": "2023-11-07T09:17:47.231Z"
   },
   {
    "duration": 26,
    "start_time": "2023-11-07T09:17:47.237Z"
   },
   {
    "duration": 226,
    "start_time": "2023-11-07T09:17:47.265Z"
   },
   {
    "duration": 3,
    "start_time": "2023-11-07T09:17:47.493Z"
   },
   {
    "duration": 5128,
    "start_time": "2023-11-07T09:17:47.497Z"
   },
   {
    "duration": 3,
    "start_time": "2023-11-07T09:17:52.626Z"
   },
   {
    "duration": 32,
    "start_time": "2023-11-07T09:17:52.631Z"
   },
   {
    "duration": 17,
    "start_time": "2023-11-07T09:17:52.667Z"
   },
   {
    "duration": 11,
    "start_time": "2023-11-07T09:17:52.686Z"
   },
   {
    "duration": 811,
    "start_time": "2023-11-07T09:17:52.701Z"
   },
   {
    "duration": 0,
    "start_time": "2023-11-07T09:17:53.514Z"
   },
   {
    "duration": 0,
    "start_time": "2023-11-07T09:17:53.515Z"
   },
   {
    "duration": 0,
    "start_time": "2023-11-07T09:17:53.516Z"
   },
   {
    "duration": 0,
    "start_time": "2023-11-07T09:17:53.517Z"
   },
   {
    "duration": 0,
    "start_time": "2023-11-07T09:17:53.519Z"
   },
   {
    "duration": 0,
    "start_time": "2023-11-07T09:17:53.520Z"
   },
   {
    "duration": 0,
    "start_time": "2023-11-07T09:17:53.521Z"
   },
   {
    "duration": 0,
    "start_time": "2023-11-07T09:17:53.522Z"
   },
   {
    "duration": 0,
    "start_time": "2023-11-07T09:17:53.524Z"
   },
   {
    "duration": 0,
    "start_time": "2023-11-07T09:17:53.525Z"
   },
   {
    "duration": 0,
    "start_time": "2023-11-07T09:17:53.527Z"
   },
   {
    "duration": 0,
    "start_time": "2023-11-07T09:17:53.528Z"
   },
   {
    "duration": 0,
    "start_time": "2023-11-07T09:17:53.529Z"
   },
   {
    "duration": 0,
    "start_time": "2023-11-07T09:17:53.530Z"
   },
   {
    "duration": 0,
    "start_time": "2023-11-07T09:17:53.532Z"
   },
   {
    "duration": 0,
    "start_time": "2023-11-07T09:17:53.533Z"
   },
   {
    "duration": 0,
    "start_time": "2023-11-07T09:17:53.534Z"
   },
   {
    "duration": 0,
    "start_time": "2023-11-07T09:17:53.535Z"
   },
   {
    "duration": 0,
    "start_time": "2023-11-07T09:17:53.537Z"
   },
   {
    "duration": 0,
    "start_time": "2023-11-07T09:17:53.538Z"
   },
   {
    "duration": 0,
    "start_time": "2023-11-07T09:17:53.539Z"
   },
   {
    "duration": 0,
    "start_time": "2023-11-07T09:17:53.539Z"
   },
   {
    "duration": 0,
    "start_time": "2023-11-07T09:17:53.541Z"
   },
   {
    "duration": 0,
    "start_time": "2023-11-07T09:17:53.542Z"
   },
   {
    "duration": 4635,
    "start_time": "2023-11-07T09:19:09.565Z"
   },
   {
    "duration": 942,
    "start_time": "2023-11-07T09:19:14.202Z"
   },
   {
    "duration": 16,
    "start_time": "2023-11-07T09:19:15.146Z"
   },
   {
    "duration": 39,
    "start_time": "2023-11-07T09:19:15.164Z"
   },
   {
    "duration": 11,
    "start_time": "2023-11-07T09:19:15.206Z"
   },
   {
    "duration": 17,
    "start_time": "2023-11-07T09:19:15.219Z"
   },
   {
    "duration": 254,
    "start_time": "2023-11-07T09:19:15.238Z"
   },
   {
    "duration": 4,
    "start_time": "2023-11-07T09:19:15.494Z"
   },
   {
    "duration": 5046,
    "start_time": "2023-11-07T09:19:15.500Z"
   },
   {
    "duration": 3,
    "start_time": "2023-11-07T09:19:20.552Z"
   },
   {
    "duration": 6,
    "start_time": "2023-11-07T09:19:20.557Z"
   },
   {
    "duration": 12,
    "start_time": "2023-11-07T09:19:20.565Z"
   },
   {
    "duration": 9,
    "start_time": "2023-11-07T09:19:20.579Z"
   },
   {
    "duration": 1011,
    "start_time": "2023-11-07T09:19:20.591Z"
   },
   {
    "duration": 0,
    "start_time": "2023-11-07T09:19:21.604Z"
   },
   {
    "duration": 0,
    "start_time": "2023-11-07T09:19:21.606Z"
   },
   {
    "duration": 0,
    "start_time": "2023-11-07T09:19:21.608Z"
   },
   {
    "duration": 0,
    "start_time": "2023-11-07T09:19:21.609Z"
   },
   {
    "duration": 0,
    "start_time": "2023-11-07T09:19:21.610Z"
   },
   {
    "duration": 0,
    "start_time": "2023-11-07T09:19:21.612Z"
   },
   {
    "duration": 0,
    "start_time": "2023-11-07T09:19:21.613Z"
   },
   {
    "duration": 0,
    "start_time": "2023-11-07T09:19:21.614Z"
   },
   {
    "duration": 0,
    "start_time": "2023-11-07T09:19:21.615Z"
   },
   {
    "duration": 0,
    "start_time": "2023-11-07T09:19:21.617Z"
   },
   {
    "duration": 0,
    "start_time": "2023-11-07T09:19:21.618Z"
   },
   {
    "duration": 0,
    "start_time": "2023-11-07T09:19:21.619Z"
   },
   {
    "duration": 0,
    "start_time": "2023-11-07T09:19:21.620Z"
   },
   {
    "duration": 0,
    "start_time": "2023-11-07T09:19:21.621Z"
   },
   {
    "duration": 0,
    "start_time": "2023-11-07T09:19:21.622Z"
   },
   {
    "duration": 0,
    "start_time": "2023-11-07T09:19:21.623Z"
   },
   {
    "duration": 0,
    "start_time": "2023-11-07T09:19:21.624Z"
   },
   {
    "duration": 0,
    "start_time": "2023-11-07T09:19:21.625Z"
   },
   {
    "duration": 0,
    "start_time": "2023-11-07T09:19:21.626Z"
   },
   {
    "duration": 0,
    "start_time": "2023-11-07T09:19:21.627Z"
   },
   {
    "duration": 0,
    "start_time": "2023-11-07T09:19:21.629Z"
   },
   {
    "duration": 0,
    "start_time": "2023-11-07T09:19:21.630Z"
   },
   {
    "duration": 0,
    "start_time": "2023-11-07T09:19:21.631Z"
   },
   {
    "duration": 4510,
    "start_time": "2023-12-11T08:44:31.345Z"
   },
   {
    "duration": 3279,
    "start_time": "2023-12-11T08:44:35.857Z"
   },
   {
    "duration": 16,
    "start_time": "2023-12-11T08:44:39.138Z"
   },
   {
    "duration": 43,
    "start_time": "2023-12-11T08:44:39.155Z"
   },
   {
    "duration": 4,
    "start_time": "2023-12-11T08:44:39.200Z"
   },
   {
    "duration": 13,
    "start_time": "2023-12-11T08:44:39.205Z"
   },
   {
    "duration": 197,
    "start_time": "2023-12-11T08:44:39.219Z"
   },
   {
    "duration": 3,
    "start_time": "2023-12-11T08:44:39.418Z"
   },
   {
    "duration": 3957,
    "start_time": "2023-12-11T08:44:39.430Z"
   },
   {
    "duration": 3,
    "start_time": "2023-12-11T08:44:43.388Z"
   },
   {
    "duration": 35,
    "start_time": "2023-12-11T08:44:43.392Z"
   },
   {
    "duration": 14,
    "start_time": "2023-12-11T08:44:43.428Z"
   },
   {
    "duration": 5,
    "start_time": "2023-12-11T08:44:43.444Z"
   },
   {
    "duration": 595,
    "start_time": "2023-12-11T08:44:43.452Z"
   },
   {
    "duration": 0,
    "start_time": "2023-12-11T08:44:44.049Z"
   },
   {
    "duration": 0,
    "start_time": "2023-12-11T08:44:44.050Z"
   },
   {
    "duration": 0,
    "start_time": "2023-12-11T08:44:44.051Z"
   },
   {
    "duration": 0,
    "start_time": "2023-12-11T08:44:44.052Z"
   },
   {
    "duration": 0,
    "start_time": "2023-12-11T08:44:44.053Z"
   },
   {
    "duration": 0,
    "start_time": "2023-12-11T08:44:44.054Z"
   },
   {
    "duration": 0,
    "start_time": "2023-12-11T08:44:44.056Z"
   },
   {
    "duration": 0,
    "start_time": "2023-12-11T08:44:44.057Z"
   },
   {
    "duration": 0,
    "start_time": "2023-12-11T08:44:44.058Z"
   },
   {
    "duration": 0,
    "start_time": "2023-12-11T08:44:44.059Z"
   },
   {
    "duration": 0,
    "start_time": "2023-12-11T08:44:44.060Z"
   },
   {
    "duration": 0,
    "start_time": "2023-12-11T08:44:44.061Z"
   },
   {
    "duration": 0,
    "start_time": "2023-12-11T08:44:44.062Z"
   },
   {
    "duration": 0,
    "start_time": "2023-12-11T08:44:44.063Z"
   },
   {
    "duration": 0,
    "start_time": "2023-12-11T08:44:44.064Z"
   },
   {
    "duration": 0,
    "start_time": "2023-12-11T08:44:44.065Z"
   },
   {
    "duration": 0,
    "start_time": "2023-12-11T08:44:44.066Z"
   },
   {
    "duration": 0,
    "start_time": "2023-12-11T08:44:44.067Z"
   },
   {
    "duration": 0,
    "start_time": "2023-12-11T08:44:44.068Z"
   },
   {
    "duration": 0,
    "start_time": "2023-12-11T08:44:44.070Z"
   },
   {
    "duration": 0,
    "start_time": "2023-12-11T08:44:44.071Z"
   },
   {
    "duration": 0,
    "start_time": "2023-12-11T08:44:44.073Z"
   },
   {
    "duration": 0,
    "start_time": "2023-12-11T08:44:44.074Z"
   }
  ],
  "kernelspec": {
   "display_name": "Python 3 (ipykernel)",
   "language": "python",
   "name": "python3"
  },
  "language_info": {
   "codemirror_mode": {
    "name": "ipython",
    "version": 3
   },
   "file_extension": ".py",
   "mimetype": "text/x-python",
   "name": "python",
   "nbconvert_exporter": "python",
   "pygments_lexer": "ipython3",
   "version": "3.9.13"
  },
  "toc": {
   "base_numbering": 1,
   "nav_menu": {},
   "number_sections": true,
   "sideBar": true,
   "skip_h1_title": true,
   "title_cell": "Содержание",
   "title_sidebar": "Contents",
   "toc_cell": true,
   "toc_position": {
    "height": "calc(100% - 180px)",
    "left": "10px",
    "top": "150px",
    "width": "302.391px"
   },
   "toc_section_display": true,
   "toc_window_display": false
  }
 },
 "nbformat": 4,
 "nbformat_minor": 2
}
